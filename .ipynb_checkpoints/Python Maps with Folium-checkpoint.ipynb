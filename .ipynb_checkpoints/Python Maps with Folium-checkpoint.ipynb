{
 "cells": [
  {
   "cell_type": "markdown",
   "metadata": {},
   "source": [
    "# Python Interactive Maps with Folium"
   ]
  },
  {
   "cell_type": "markdown",
   "metadata": {},
   "source": [
    "# Notes"
   ]
  },
  {
   "cell_type": "markdown",
   "metadata": {},
   "source": [
    "* folium is similar to ipyleaflet but different in some functionaly and syntax\n",
    "* for install instructions go to python.org, python package index, search for folium"
   ]
  },
  {
   "cell_type": "markdown",
   "metadata": {},
   "source": [
    "# Data Files"
   ]
  },
  {
   "cell_type": "markdown",
   "metadata": {},
   "source": [
    "* indiana_outline_map.geojson\n",
    "* sales_region1.geojson\n",
    "* sales_region2.geojson\n",
    "* sales_region3.geojson\n",
    "* geojson_indianacounties.geojson\n",
    "* indiana_population_by_county.csv\n",
    "* flags_of_africa.png (from Wikipedia)"
   ]
  },
  {
   "cell_type": "markdown",
   "metadata": {},
   "source": [
    "# Documentation"
   ]
  },
  {
   "cell_type": "code",
   "execution_count": 1,
   "metadata": {},
   "outputs": [
    {
     "data": {
      "text/html": [
       "\n",
       "        <iframe\n",
       "            width=\"1000\"\n",
       "            height=\"500\"\n",
       "            src=\"https://python-visualization.github.io/folium/\"\n",
       "            frameborder=\"0\"\n",
       "            allowfullscreen\n",
       "        ></iframe>\n",
       "        "
      ],
      "text/plain": [
<<<<<<< HEAD
       "<IPython.lib.display.IFrame at 0x248f9d38dc0>"
=======
       "<IPython.lib.display.IFrame at 0x5337130>"
>>>>>>> 346f936504c41cd2de49f9f7a0b507ea5e8cd490
      ]
     },
     "metadata": {},
     "output_type": "display_data"
    }
   ],
   "source": [
    "from IPython.display import IFrame\n",
    "documentation = IFrame(src='https://python-visualization.github.io/folium/', width=1000, height=500)\n",
    "display(documentation)"
   ]
  },
  {
   "cell_type": "markdown",
   "metadata": {},
   "source": [
    "# Imports"
   ]
  },
  {
   "cell_type": "code",
<<<<<<< HEAD
   "execution_count": 1,
   "metadata": {},
   "outputs": [
    {
     "ename": "ModuleNotFoundError",
     "evalue": "No module named 'folium'",
     "output_type": "error",
     "traceback": [
      "\u001b[1;31m---------------------------------------------------------------------------\u001b[0m",
      "\u001b[1;31mModuleNotFoundError\u001b[0m                       Traceback (most recent call last)",
      "\u001b[1;32m<ipython-input-1-a2945c06f0a2>\u001b[0m in \u001b[0;36m<module>\u001b[1;34m\u001b[0m\n\u001b[1;32m----> 1\u001b[1;33m \u001b[1;32mimport\u001b[0m \u001b[0mfolium\u001b[0m\u001b[1;33m\u001b[0m\u001b[1;33m\u001b[0m\u001b[0m\n\u001b[0m\u001b[0;32m      2\u001b[0m \u001b[1;32mfrom\u001b[0m \u001b[0mfolium\u001b[0m \u001b[1;32mimport\u001b[0m \u001b[0mplugins\u001b[0m\u001b[1;33m\u001b[0m\u001b[1;33m\u001b[0m\u001b[0m\n\u001b[0;32m      3\u001b[0m \u001b[1;32mimport\u001b[0m \u001b[0mipywidgets\u001b[0m\u001b[1;33m\u001b[0m\u001b[1;33m\u001b[0m\u001b[0m\n\u001b[0;32m      4\u001b[0m \u001b[1;32mimport\u001b[0m \u001b[0mgeocoder\u001b[0m\u001b[1;33m\u001b[0m\u001b[1;33m\u001b[0m\u001b[0m\n\u001b[0;32m      5\u001b[0m \u001b[1;32mimport\u001b[0m \u001b[0mgeopy\u001b[0m\u001b[1;33m\u001b[0m\u001b[1;33m\u001b[0m\u001b[0m\n",
      "\u001b[1;31mModuleNotFoundError\u001b[0m: No module named 'folium'"
     ]
    }
   ],
=======
   "execution_count": 39,
   "metadata": {},
   "outputs": [],
>>>>>>> 346f936504c41cd2de49f9f7a0b507ea5e8cd490
   "source": [
    "import folium\n",
    "from folium import plugins\n",
    "import ipywidgets\n",
    "import geocoder\n",
    "import geopy\n",
    "import numpy as np\n",
    "import pandas as pd\n",
    "from vega_datasets import data as vds"
   ]
  },
  {
   "cell_type": "markdown",
   "metadata": {},
   "source": [
    "# Basic Maps"
   ]
  },
  {
   "cell_type": "code",
<<<<<<< HEAD
   "execution_count": null,
   "metadata": {},
   "outputs": [],
=======
   "execution_count": 3,
   "metadata": {},
   "outputs": [
    {
     "name": "stdout",
     "output_type": "stream",
     "text": [
      "Object `folium.Map` not found.\n"
     ]
    }
   ],
>>>>>>> 346f936504c41cd2de49f9f7a0b507ea5e8cd490
   "source": [
    "folium.Map?"
   ]
  },
  {
   "cell_type": "code",
<<<<<<< HEAD
   "execution_count": 3,
=======
   "execution_count": 4,
>>>>>>> 346f936504c41cd2de49f9f7a0b507ea5e8cd490
   "metadata": {
    "scrolled": false
   },
   "outputs": [
    {
<<<<<<< HEAD
     "data": {
      "text/html": [
       "<div style=\"width:100%;\"><div style=\"position:relative;width:100%;height:0;padding-bottom:60%;\"><span style=\"color:#565656\">Make this Notebook Trusted to load map: File -> Trust Notebook</span><iframe src=\"about:blank\" style=\"position:absolute;width:100%;height:100%;left:0;top:0;border:none !important;\" data-html=PCFET0NUWVBFIGh0bWw+CjxoZWFkPiAgICAKICAgIDxtZXRhIGh0dHAtZXF1aXY9ImNvbnRlbnQtdHlwZSIgY29udGVudD0idGV4dC9odG1sOyBjaGFyc2V0PVVURi04IiAvPgogICAgCiAgICAgICAgPHNjcmlwdD4KICAgICAgICAgICAgTF9OT19UT1VDSCA9IGZhbHNlOwogICAgICAgICAgICBMX0RJU0FCTEVfM0QgPSBmYWxzZTsKICAgICAgICA8L3NjcmlwdD4KICAgIAogICAgPHNjcmlwdCBzcmM9Imh0dHBzOi8vY2RuLmpzZGVsaXZyLm5ldC9ucG0vbGVhZmxldEAxLjYuMC9kaXN0L2xlYWZsZXQuanMiPjwvc2NyaXB0PgogICAgPHNjcmlwdCBzcmM9Imh0dHBzOi8vY29kZS5qcXVlcnkuY29tL2pxdWVyeS0xLjEyLjQubWluLmpzIj48L3NjcmlwdD4KICAgIDxzY3JpcHQgc3JjPSJodHRwczovL21heGNkbi5ib290c3RyYXBjZG4uY29tL2Jvb3RzdHJhcC8zLjIuMC9qcy9ib290c3RyYXAubWluLmpzIj48L3NjcmlwdD4KICAgIDxzY3JpcHQgc3JjPSJodHRwczovL2NkbmpzLmNsb3VkZmxhcmUuY29tL2FqYXgvbGlicy9MZWFmbGV0LmF3ZXNvbWUtbWFya2Vycy8yLjAuMi9sZWFmbGV0LmF3ZXNvbWUtbWFya2Vycy5qcyI+PC9zY3JpcHQ+CiAgICA8bGluayByZWw9InN0eWxlc2hlZXQiIGhyZWY9Imh0dHBzOi8vY2RuLmpzZGVsaXZyLm5ldC9ucG0vbGVhZmxldEAxLjYuMC9kaXN0L2xlYWZsZXQuY3NzIi8+CiAgICA8bGluayByZWw9InN0eWxlc2hlZXQiIGhyZWY9Imh0dHBzOi8vbWF4Y2RuLmJvb3RzdHJhcGNkbi5jb20vYm9vdHN0cmFwLzMuMi4wL2Nzcy9ib290c3RyYXAubWluLmNzcyIvPgogICAgPGxpbmsgcmVsPSJzdHlsZXNoZWV0IiBocmVmPSJodHRwczovL21heGNkbi5ib290c3RyYXBjZG4uY29tL2Jvb3RzdHJhcC8zLjIuMC9jc3MvYm9vdHN0cmFwLXRoZW1lLm1pbi5jc3MiLz4KICAgIDxsaW5rIHJlbD0ic3R5bGVzaGVldCIgaHJlZj0iaHR0cHM6Ly9tYXhjZG4uYm9vdHN0cmFwY2RuLmNvbS9mb250LWF3ZXNvbWUvNC42LjMvY3NzL2ZvbnQtYXdlc29tZS5taW4uY3NzIi8+CiAgICA8bGluayByZWw9InN0eWxlc2hlZXQiIGhyZWY9Imh0dHBzOi8vY2RuanMuY2xvdWRmbGFyZS5jb20vYWpheC9saWJzL0xlYWZsZXQuYXdlc29tZS1tYXJrZXJzLzIuMC4yL2xlYWZsZXQuYXdlc29tZS1tYXJrZXJzLmNzcyIvPgogICAgPGxpbmsgcmVsPSJzdHlsZXNoZWV0IiBocmVmPSJodHRwczovL3Jhd2Nkbi5naXRoYWNrLmNvbS9weXRob24tdmlzdWFsaXphdGlvbi9mb2xpdW0vbWFzdGVyL2ZvbGl1bS90ZW1wbGF0ZXMvbGVhZmxldC5hd2Vzb21lLnJvdGF0ZS5jc3MiLz4KICAgIDxzdHlsZT5odG1sLCBib2R5IHt3aWR0aDogMTAwJTtoZWlnaHQ6IDEwMCU7bWFyZ2luOiAwO3BhZGRpbmc6IDA7fTwvc3R5bGU+CiAgICA8c3R5bGU+I21hcCB7cG9zaXRpb246YWJzb2x1dGU7dG9wOjA7Ym90dG9tOjA7cmlnaHQ6MDtsZWZ0OjA7fTwvc3R5bGU+CiAgICAKICAgICAgICAgICAgPG1ldGEgbmFtZT0idmlld3BvcnQiIGNvbnRlbnQ9IndpZHRoPWRldmljZS13aWR0aCwKICAgICAgICAgICAgICAgIGluaXRpYWwtc2NhbGU9MS4wLCBtYXhpbXVtLXNjYWxlPTEuMCwgdXNlci1zY2FsYWJsZT1ubyIgLz4KICAgICAgICAgICAgPHN0eWxlPgogICAgICAgICAgICAgICAgI21hcF9hMzdjYWU2MTlhMTg0NmM4YTE0YmZmMzFlMjU3ZjBjNyB7CiAgICAgICAgICAgICAgICAgICAgcG9zaXRpb246IHJlbGF0aXZlOwogICAgICAgICAgICAgICAgICAgIHdpZHRoOiAxMDAuMCU7CiAgICAgICAgICAgICAgICAgICAgaGVpZ2h0OiAxMDAuMCU7CiAgICAgICAgICAgICAgICAgICAgbGVmdDogMC4wJTsKICAgICAgICAgICAgICAgICAgICB0b3A6IDAuMCU7CiAgICAgICAgICAgICAgICB9CiAgICAgICAgICAgIDwvc3R5bGU+CiAgICAgICAgCjwvaGVhZD4KPGJvZHk+ICAgIAogICAgCiAgICAgICAgICAgIDxkaXYgY2xhc3M9ImZvbGl1bS1tYXAiIGlkPSJtYXBfYTM3Y2FlNjE5YTE4NDZjOGExNGJmZjMxZTI1N2YwYzciID48L2Rpdj4KICAgICAgICAKPC9ib2R5Pgo8c2NyaXB0PiAgICAKICAgIAogICAgICAgICAgICB2YXIgbWFwX2EzN2NhZTYxOWExODQ2YzhhMTRiZmYzMWUyNTdmMGM3ID0gTC5tYXAoCiAgICAgICAgICAgICAgICAibWFwX2EzN2NhZTYxOWExODQ2YzhhMTRiZmYzMWUyNTdmMGM3IiwKICAgICAgICAgICAgICAgIHsKICAgICAgICAgICAgICAgICAgICBjZW50ZXI6IFswLCAwXSwKICAgICAgICAgICAgICAgICAgICBjcnM6IEwuQ1JTLkVQU0czODU3LAogICAgICAgICAgICAgICAgICAgIHpvb206IDEsCiAgICAgICAgICAgICAgICAgICAgem9vbUNvbnRyb2w6IHRydWUsCiAgICAgICAgICAgICAgICAgICAgcHJlZmVyQ2FudmFzOiBmYWxzZSwKICAgICAgICAgICAgICAgIH0KICAgICAgICAgICAgKTsKCiAgICAgICAgICAgIAoKICAgICAgICAKICAgIAogICAgICAgICAgICB2YXIgdGlsZV9sYXllcl8wNzk0MTU1NzI4ODg0M2JhYTE1Nzc1YTMyODgwY2UyMiA9IEwudGlsZUxheWVyKAogICAgICAgICAgICAgICAgImh0dHBzOi8ve3N9LnRpbGUub3BlbnN0cmVldG1hcC5vcmcve3p9L3t4fS97eX0ucG5nIiwKICAgICAgICAgICAgICAgIHsiYXR0cmlidXRpb24iOiAiRGF0YSBieSBcdTAwMjZjb3B5OyBcdTAwM2NhIGhyZWY9XCJodHRwOi8vb3BlbnN0cmVldG1hcC5vcmdcIlx1MDAzZU9wZW5TdHJlZXRNYXBcdTAwM2MvYVx1MDAzZSwgdW5kZXIgXHUwMDNjYSBocmVmPVwiaHR0cDovL3d3dy5vcGVuc3RyZWV0bWFwLm9yZy9jb3B5cmlnaHRcIlx1MDAzZU9EYkxcdTAwM2MvYVx1MDAzZS4iLCAiZGV0ZWN0UmV0aW5hIjogZmFsc2UsICJtYXhOYXRpdmVab29tIjogMTgsICJtYXhab29tIjogMTgsICJtaW5ab29tIjogMCwgIm5vV3JhcCI6IGZhbHNlLCAib3BhY2l0eSI6IDEsICJzdWJkb21haW5zIjogImFiYyIsICJ0bXMiOiBmYWxzZX0KICAgICAgICAgICAgKS5hZGRUbyhtYXBfYTM3Y2FlNjE5YTE4NDZjOGExNGJmZjMxZTI1N2YwYzcpOwogICAgICAgIAo8L3NjcmlwdD4= onload=\"this.contentDocument.open();this.contentDocument.write(atob(this.getAttribute('data-html')));this.contentDocument.close();\" allowfullscreen webkitallowfullscreen mozallowfullscreen></iframe></div></div>"
      ],
      "text/plain": [
       "<folium.folium.Map at 0x248f9d42130>"
      ]
     },
     "execution_count": 3,
     "metadata": {},
     "output_type": "execute_result"
=======
     "ename": "NameError",
     "evalue": "name 'folium' is not defined",
     "output_type": "error",
     "traceback": [
      "\u001b[1;31m---------------------------------------------------------------------------\u001b[0m",
      "\u001b[1;31mNameError\u001b[0m                                 Traceback (most recent call last)",
      "\u001b[1;32m<ipython-input-4-996ab0aee089>\u001b[0m in \u001b[0;36m<module>\u001b[1;34m\u001b[0m\n\u001b[0;32m      2\u001b[0m \u001b[1;31m# zoom and pan\u001b[0m\u001b[1;33m\u001b[0m\u001b[1;33m\u001b[0m\u001b[1;33m\u001b[0m\u001b[0m\n\u001b[0;32m      3\u001b[0m \u001b[1;33m\u001b[0m\u001b[0m\n\u001b[1;32m----> 4\u001b[1;33m \u001b[0mfolium\u001b[0m\u001b[1;33m.\u001b[0m\u001b[0mMap\u001b[0m\u001b[1;33m(\u001b[0m\u001b[1;33m)\u001b[0m\u001b[1;33m\u001b[0m\u001b[1;33m\u001b[0m\u001b[0m\n\u001b[0m",
      "\u001b[1;31mNameError\u001b[0m: name 'folium' is not defined"
     ]
>>>>>>> 346f936504c41cd2de49f9f7a0b507ea5e8cd490
    }
   ],
   "source": [
    "# basic map\n",
    "# zoom and pan\n",
    "\n",
    "folium.Map()"
   ]
  },
  {
   "cell_type": "code",
<<<<<<< HEAD
   "execution_count": 4,
   "metadata": {},
   "outputs": [
    {
     "data": {
      "text/html": [
       "<div style=\"width:100%;\"><div style=\"position:relative;width:100%;height:0;padding-bottom:60%;\"><span style=\"color:#565656\">Make this Notebook Trusted to load map: File -> Trust Notebook</span><iframe src=\"about:blank\" style=\"position:absolute;width:100%;height:100%;left:0;top:0;border:none !important;\" data-html=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 onload=\"this.contentDocument.open();this.contentDocument.write(atob(this.getAttribute('data-html')));this.contentDocument.close();\" allowfullscreen webkitallowfullscreen mozallowfullscreen></iframe></div></div>"
      ],
      "text/plain": [
       "<folium.folium.Map at 0x248f9d46400>"
      ]
     },
     "execution_count": 4,
     "metadata": {},
     "output_type": "execute_result"
=======
   "execution_count": 5,
   "metadata": {},
   "outputs": [
    {
     "ename": "NameError",
     "evalue": "name 'folium' is not defined",
     "output_type": "error",
     "traceback": [
      "\u001b[1;31m---------------------------------------------------------------------------\u001b[0m",
      "\u001b[1;31mNameError\u001b[0m                                 Traceback (most recent call last)",
      "\u001b[1;32m<ipython-input-5-f8be7683b1dc>\u001b[0m in \u001b[0;36m<module>\u001b[1;34m\u001b[0m\n\u001b[0;32m      2\u001b[0m \u001b[1;31m# zoom in by using a larger number for zoom_start\u001b[0m\u001b[1;33m\u001b[0m\u001b[1;33m\u001b[0m\u001b[1;33m\u001b[0m\u001b[0m\n\u001b[0;32m      3\u001b[0m \u001b[1;33m\u001b[0m\u001b[0m\n\u001b[1;32m----> 4\u001b[1;33m \u001b[0mmap1\u001b[0m \u001b[1;33m=\u001b[0m \u001b[0mfolium\u001b[0m\u001b[1;33m.\u001b[0m\u001b[0mMap\u001b[0m\u001b[1;33m(\u001b[0m\u001b[0mlocation\u001b[0m\u001b[1;33m=\u001b[0m\u001b[1;33m[\u001b[0m\u001b[1;36m4.570868\u001b[0m\u001b[1;33m,\u001b[0m \u001b[1;33m-\u001b[0m\u001b[1;36m74.297333\u001b[0m\u001b[1;33m]\u001b[0m\u001b[1;33m,\u001b[0m \u001b[0mzoom_start\u001b[0m\u001b[1;33m=\u001b[0m\u001b[1;36m12\u001b[0m\u001b[1;33m,\u001b[0m \u001b[0mwidth\u001b[0m\u001b[1;33m=\u001b[0m\u001b[1;36m500\u001b[0m\u001b[1;33m,\u001b[0m \u001b[0mheight\u001b[0m\u001b[1;33m=\u001b[0m\u001b[1;36m300\u001b[0m\u001b[1;33m,\u001b[0m \u001b[0mcontrol_scale\u001b[0m\u001b[1;33m=\u001b[0m\u001b[1;32mTrue\u001b[0m\u001b[1;33m)\u001b[0m\u001b[1;33m\u001b[0m\u001b[1;33m\u001b[0m\u001b[0m\n\u001b[0m\u001b[0;32m      5\u001b[0m \u001b[0mmap1\u001b[0m\u001b[1;33m\u001b[0m\u001b[1;33m\u001b[0m\u001b[0m\n",
      "\u001b[1;31mNameError\u001b[0m: name 'folium' is not defined"
     ]
>>>>>>> 346f936504c41cd2de49f9f7a0b507ea5e8cd490
    }
   ],
   "source": [
    "# map with location start point, zoom level, size, and distance scale\n",
    "# zoom in by using a larger number for zoom_start\n",
    "\n",
    "map1 = folium.Map(location=[4.570868, -74.297333], zoom_start=12, width=500, height=300, control_scale=True)\n",
    "map1"
   ]
  },
  {
   "cell_type": "code",
<<<<<<< HEAD
   "execution_count": 5,
   "metadata": {},
   "outputs": [
    {
     "data": {
      "text/html": [
       "<iframe src=\"about:blank\" width=\"500\" height=\"300\"style=\"border:none !important;\" data-html=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 onload=\"this.contentDocument.open();this.contentDocument.write(atob(this.getAttribute('data-html')));this.contentDocument.close();\" \"allowfullscreen\" \"webkitallowfullscreen\" \"mozallowfullscreen\"></iframe>"
      ],
      "text/plain": [
       "<branca.element.Figure at 0x248fc9e0b50>"
      ]
     },
     "execution_count": 5,
     "metadata": {},
     "output_type": "execute_result"
=======
   "execution_count": 6,
   "metadata": {},
   "outputs": [
    {
     "ename": "ModuleNotFoundError",
     "evalue": "No module named 'branca'",
     "output_type": "error",
     "traceback": [
      "\u001b[1;31m---------------------------------------------------------------------------\u001b[0m",
      "\u001b[1;31mModuleNotFoundError\u001b[0m                       Traceback (most recent call last)",
      "\u001b[1;32m<ipython-input-6-ac1bd34a53ca>\u001b[0m in \u001b[0;36m<module>\u001b[1;34m\u001b[0m\n\u001b[0;32m      1\u001b[0m \u001b[1;31m# another way to change map size\u001b[0m\u001b[1;33m\u001b[0m\u001b[1;33m\u001b[0m\u001b[1;33m\u001b[0m\u001b[0m\n\u001b[0;32m      2\u001b[0m \u001b[1;33m\u001b[0m\u001b[0m\n\u001b[1;32m----> 3\u001b[1;33m \u001b[1;32mfrom\u001b[0m \u001b[0mbranca\u001b[0m\u001b[1;33m.\u001b[0m\u001b[0melement\u001b[0m \u001b[1;32mimport\u001b[0m \u001b[0mFigure\u001b[0m\u001b[1;33m\u001b[0m\u001b[1;33m\u001b[0m\u001b[0m\n\u001b[0m\u001b[0;32m      4\u001b[0m \u001b[1;33m\u001b[0m\u001b[0m\n\u001b[0;32m      5\u001b[0m \u001b[0mfig\u001b[0m \u001b[1;33m=\u001b[0m \u001b[0mFigure\u001b[0m\u001b[1;33m(\u001b[0m\u001b[0mwidth\u001b[0m\u001b[1;33m=\u001b[0m\u001b[1;36m500\u001b[0m\u001b[1;33m,\u001b[0m \u001b[0mheight\u001b[0m\u001b[1;33m=\u001b[0m\u001b[1;36m300\u001b[0m\u001b[1;33m)\u001b[0m\u001b[1;33m\u001b[0m\u001b[1;33m\u001b[0m\u001b[0m\n",
      "\u001b[1;31mModuleNotFoundError\u001b[0m: No module named 'branca'"
     ]
>>>>>>> 346f936504c41cd2de49f9f7a0b507ea5e8cd490
    }
   ],
   "source": [
    "# another way to change map size\n",
    "\n",
    "from branca.element import Figure\n",
    "\n",
    "fig = Figure(width=500, height=300)\n",
    "fig.add_child(map1)\n",
    "fig"
   ]
  },
  {
   "cell_type": "markdown",
   "metadata": {},
   "source": [
    "# Save Map"
   ]
  },
  {
   "cell_type": "code",
<<<<<<< HEAD
   "execution_count": 6,
   "metadata": {},
   "outputs": [
    {
     "ename": "FileNotFoundError",
     "evalue": "[Errno 2] No such file or directory: '/Users/Desktop/map2.html'",
     "output_type": "error",
     "traceback": [
      "\u001b[1;31m---------------------------------------------------------------------------\u001b[0m",
      "\u001b[1;31mFileNotFoundError\u001b[0m                         Traceback (most recent call last)",
      "\u001b[1;32m<ipython-input-6-203fd412e3ce>\u001b[0m in \u001b[0;36m<module>\u001b[1;34m\u001b[0m\n\u001b[0;32m      3\u001b[0m \u001b[1;33m\u001b[0m\u001b[0m\n\u001b[0;32m      4\u001b[0m \u001b[1;31m# put in path.html\u001b[0m\u001b[1;33m\u001b[0m\u001b[1;33m\u001b[0m\u001b[1;33m\u001b[0m\u001b[0m\n\u001b[1;32m----> 5\u001b[1;33m \u001b[0mmap2\u001b[0m\u001b[1;33m.\u001b[0m\u001b[0msave\u001b[0m\u001b[1;33m(\u001b[0m\u001b[1;34m'/Users/Desktop/map2.html'\u001b[0m\u001b[1;33m)\u001b[0m\u001b[1;33m\u001b[0m\u001b[1;33m\u001b[0m\u001b[0m\n\u001b[0m",
      "\u001b[1;32m~\\Anaconda3\\lib\\site-packages\\branca\\element.py\u001b[0m in \u001b[0;36msave\u001b[1;34m(self, outfile, close_file, **kwargs)\u001b[0m\n\u001b[0;32m    159\u001b[0m         \"\"\"\n\u001b[0;32m    160\u001b[0m         \u001b[1;32mif\u001b[0m \u001b[0misinstance\u001b[0m\u001b[1;33m(\u001b[0m\u001b[0moutfile\u001b[0m\u001b[1;33m,\u001b[0m \u001b[0mstr\u001b[0m\u001b[1;33m)\u001b[0m \u001b[1;32mor\u001b[0m \u001b[0misinstance\u001b[0m\u001b[1;33m(\u001b[0m\u001b[0moutfile\u001b[0m\u001b[1;33m,\u001b[0m \u001b[0mbytes\u001b[0m\u001b[1;33m)\u001b[0m\u001b[1;33m:\u001b[0m\u001b[1;33m\u001b[0m\u001b[1;33m\u001b[0m\u001b[0m\n\u001b[1;32m--> 161\u001b[1;33m             \u001b[0mfid\u001b[0m \u001b[1;33m=\u001b[0m \u001b[0mopen\u001b[0m\u001b[1;33m(\u001b[0m\u001b[0moutfile\u001b[0m\u001b[1;33m,\u001b[0m \u001b[1;34m'wb'\u001b[0m\u001b[1;33m)\u001b[0m\u001b[1;33m\u001b[0m\u001b[1;33m\u001b[0m\u001b[0m\n\u001b[0m\u001b[0;32m    162\u001b[0m         \u001b[1;32melse\u001b[0m\u001b[1;33m:\u001b[0m\u001b[1;33m\u001b[0m\u001b[1;33m\u001b[0m\u001b[0m\n\u001b[0;32m    163\u001b[0m             \u001b[0mfid\u001b[0m \u001b[1;33m=\u001b[0m \u001b[0moutfile\u001b[0m\u001b[1;33m\u001b[0m\u001b[1;33m\u001b[0m\u001b[0m\n",
      "\u001b[1;31mFileNotFoundError\u001b[0m: [Errno 2] No such file or directory: '/Users/Desktop/map2.html'"
=======
   "execution_count": 7,
   "metadata": {},
   "outputs": [
    {
     "ename": "NameError",
     "evalue": "name 'folium' is not defined",
     "output_type": "error",
     "traceback": [
      "\u001b[1;31m---------------------------------------------------------------------------\u001b[0m",
      "\u001b[1;31mNameError\u001b[0m                                 Traceback (most recent call last)",
      "\u001b[1;32m<ipython-input-7-203fd412e3ce>\u001b[0m in \u001b[0;36m<module>\u001b[1;34m\u001b[0m\n\u001b[0;32m      1\u001b[0m \u001b[1;31m# map\u001b[0m\u001b[1;33m\u001b[0m\u001b[1;33m\u001b[0m\u001b[1;33m\u001b[0m\u001b[0m\n\u001b[1;32m----> 2\u001b[1;33m \u001b[0mmap2\u001b[0m \u001b[1;33m=\u001b[0m \u001b[0mfolium\u001b[0m\u001b[1;33m.\u001b[0m\u001b[0mMap\u001b[0m\u001b[1;33m(\u001b[0m\u001b[0mlocation\u001b[0m\u001b[1;33m=\u001b[0m\u001b[1;33m[\u001b[0m\u001b[1;36m39.739192\u001b[0m\u001b[1;33m,\u001b[0m \u001b[1;33m-\u001b[0m\u001b[1;36m104.990337\u001b[0m\u001b[1;33m]\u001b[0m\u001b[1;33m,\u001b[0m \u001b[0mzoom_start\u001b[0m\u001b[1;33m=\u001b[0m\u001b[1;36m8\u001b[0m\u001b[1;33m)\u001b[0m\u001b[1;33m\u001b[0m\u001b[1;33m\u001b[0m\u001b[0m\n\u001b[0m\u001b[0;32m      3\u001b[0m \u001b[1;33m\u001b[0m\u001b[0m\n\u001b[0;32m      4\u001b[0m \u001b[1;31m# put in path.html\u001b[0m\u001b[1;33m\u001b[0m\u001b[1;33m\u001b[0m\u001b[1;33m\u001b[0m\u001b[0m\n\u001b[0;32m      5\u001b[0m \u001b[0mmap2\u001b[0m\u001b[1;33m.\u001b[0m\u001b[0msave\u001b[0m\u001b[1;33m(\u001b[0m\u001b[1;34m'/Users/Desktop/map2.html'\u001b[0m\u001b[1;33m)\u001b[0m\u001b[1;33m\u001b[0m\u001b[1;33m\u001b[0m\u001b[0m\n",
      "\u001b[1;31mNameError\u001b[0m: name 'folium' is not defined"
>>>>>>> 346f936504c41cd2de49f9f7a0b507ea5e8cd490
     ]
    }
   ],
   "source": [
    "# map\n",
    "map2 = folium.Map(location=[39.739192, -104.990337], zoom_start=8)\n",
    "\n",
    "# put in path.html\n",
    "map2.save('/Users/Desktop/map2.html')"
   ]
  },
  {
   "cell_type": "markdown",
   "metadata": {},
   "source": [
    "# Map Types"
   ]
  },
  {
   "cell_type": "code",
<<<<<<< HEAD
   "execution_count": null,
   "metadata": {
    "scrolled": false
   },
   "outputs": [],
=======
   "execution_count": 35,
   "metadata": {
    "scrolled": false
   },
   "outputs": [
    {
     "ename": "NameError",
     "evalue": "name 'ipywidgets' is not defined",
     "output_type": "error",
     "traceback": [
      "\u001b[1;31m---------------------------------------------------------------------------\u001b[0m",
      "\u001b[1;31mNameError\u001b[0m                                 Traceback (most recent call last)",
      "\u001b[1;32m<ipython-input-35-a7a0a908b4eb>\u001b[0m in \u001b[0;36m<module>\u001b[1;34m\u001b[0m\n\u001b[0;32m      2\u001b[0m \u001b[1;33m\u001b[0m\u001b[0m\n\u001b[0;32m      3\u001b[0m \u001b[1;31m# widget\u001b[0m\u001b[1;33m\u001b[0m\u001b[1;33m\u001b[0m\u001b[1;33m\u001b[0m\u001b[0m\n\u001b[1;32m----> 4\u001b[1;33m select_widget=ipywidgets.Select(\n\u001b[0m\u001b[0;32m      5\u001b[0m     \u001b[0moptions\u001b[0m\u001b[1;33m=\u001b[0m\u001b[1;33m[\u001b[0m\u001b[1;34m'Open Street Map'\u001b[0m\u001b[1;33m,\u001b[0m \u001b[1;34m'Terrain'\u001b[0m\u001b[1;33m,\u001b[0m \u001b[1;34m'Toner'\u001b[0m\u001b[1;33m,\u001b[0m \u001b[1;34m'Watercolor'\u001b[0m\u001b[1;33m,\u001b[0m \u001b[1;34m'Positron'\u001b[0m\u001b[1;33m,\u001b[0m \u001b[1;34m'Dark Matter'\u001b[0m\u001b[1;33m]\u001b[0m\u001b[1;33m,\u001b[0m\u001b[1;33m\u001b[0m\u001b[1;33m\u001b[0m\u001b[0m\n\u001b[0;32m      6\u001b[0m     \u001b[0mvalue\u001b[0m\u001b[1;33m=\u001b[0m\u001b[1;34m'Open Street Map'\u001b[0m\u001b[1;33m,\u001b[0m\u001b[1;33m\u001b[0m\u001b[1;33m\u001b[0m\u001b[0m\n",
      "\u001b[1;31mNameError\u001b[0m: name 'ipywidgets' is not defined"
     ]
    }
   ],
>>>>>>> 346f936504c41cd2de49f9f7a0b507ea5e8cd490
   "source": [
    "# show map types using ipywidgets\n",
    "\n",
    "# widget\n",
    "select_widget=ipywidgets.Select(\n",
    "    options=['Open Street Map', 'Terrain', 'Toner', 'Watercolor', 'Positron', 'Dark Matter'],\n",
    "    value='Open Street Map',\n",
    "    description='Map Type:',\n",
    "    disabled=False)\n",
    "\n",
    "# widget function\n",
    "def select(map_type):\n",
    "    if map_type == 'Open Street Map':\n",
    "        display(folium.Map(location=[39.739192, -104.990337], zoom_start=12, height=500))\n",
    "    if map_type == 'Terrain':\n",
    "        display(folium.Map(location=[39.739192, -104.990337], tiles='Stamen Terrain', zoom_start=12, height=400))\n",
    "    if map_type == 'Toner':\n",
    "        display(folium.Map(location=[39.739192, -104.990337], tiles='Stamen Toner', zoom_start=12, height=400))\n",
    "    if map_type == 'Watercolor':\n",
    "        display(folium.Map(location=[39.739192, -104.990337], tiles='Stamen Watercolor', zoom_start=12, height=400))\n",
    "    if map_type == 'Positron':\n",
    "        display(folium.Map(location=[39.739192, -104.990337], tiles='CartoDB Positron', zoom_start=12, height=400))\n",
    "    if map_type == 'Dark Matter':\n",
    "        display(folium.Map(location=[39.739192, -104.990337], tiles='CartoDB Dark_Matter', zoom_start=12, height=400))\n",
    "        \n",
    "# interaction between widgets and function    \n",
    "ipywidgets.interact(select, map_type=select_widget)"
   ]
  },
  {
   "cell_type": "code",
<<<<<<< HEAD
   "execution_count": null,
   "metadata": {
    "scrolled": false
   },
   "outputs": [],
=======
   "execution_count": 36,
   "metadata": {
    "scrolled": false
   },
   "outputs": [
    {
     "ename": "NameError",
     "evalue": "name 'folium' is not defined",
     "output_type": "error",
     "traceback": [
      "\u001b[1;31m---------------------------------------------------------------------------\u001b[0m",
      "\u001b[1;31mNameError\u001b[0m                                 Traceback (most recent call last)",
      "\u001b[1;32m<ipython-input-36-722eb4b1fce9>\u001b[0m in \u001b[0;36m<module>\u001b[1;34m\u001b[0m\n\u001b[0;32m      2\u001b[0m \u001b[1;33m\u001b[0m\u001b[0m\n\u001b[0;32m      3\u001b[0m \u001b[1;31m# map\u001b[0m\u001b[1;33m\u001b[0m\u001b[1;33m\u001b[0m\u001b[1;33m\u001b[0m\u001b[0m\n\u001b[1;32m----> 4\u001b[1;33m \u001b[0mmap_layer_control\u001b[0m \u001b[1;33m=\u001b[0m \u001b[0mfolium\u001b[0m\u001b[1;33m.\u001b[0m\u001b[0mMap\u001b[0m\u001b[1;33m(\u001b[0m\u001b[0mlocation\u001b[0m\u001b[1;33m=\u001b[0m\u001b[1;33m[\u001b[0m\u001b[1;36m38\u001b[0m\u001b[1;33m,\u001b[0m \u001b[1;33m-\u001b[0m\u001b[1;36m98\u001b[0m\u001b[1;33m]\u001b[0m\u001b[1;33m,\u001b[0m \u001b[0mzoom_start\u001b[0m\u001b[1;33m=\u001b[0m\u001b[1;36m2\u001b[0m\u001b[1;33m)\u001b[0m\u001b[1;33m\u001b[0m\u001b[1;33m\u001b[0m\u001b[0m\n\u001b[0m\u001b[0;32m      5\u001b[0m \u001b[1;33m\u001b[0m\u001b[0m\n\u001b[0;32m      6\u001b[0m \u001b[1;31m# add tiles to map\u001b[0m\u001b[1;33m\u001b[0m\u001b[1;33m\u001b[0m\u001b[1;33m\u001b[0m\u001b[0m\n",
      "\u001b[1;31mNameError\u001b[0m: name 'folium' is not defined"
     ]
    }
   ],
>>>>>>> 346f936504c41cd2de49f9f7a0b507ea5e8cd490
   "source": [
    "# show map types using layer control\n",
    "\n",
    "# map\n",
    "map_layer_control = folium.Map(location=[38, -98], zoom_start=2)\n",
    "\n",
    "# add tiles to map\n",
    "folium.raster_layers.TileLayer('Open Street Map').add_to(map_layer_control)\n",
    "folium.raster_layers.TileLayer('Stamen Terrain').add_to(map_layer_control)\n",
    "folium.raster_layers.TileLayer('Stamen Toner').add_to(map_layer_control)\n",
    "folium.raster_layers.TileLayer('Stamen Watercolor').add_to(map_layer_control)\n",
    "folium.raster_layers.TileLayer('CartoDB Positron').add_to(map_layer_control)\n",
    "folium.raster_layers.TileLayer('CartoDB Dark_Matter').add_to(map_layer_control)\n",
    "\n",
    "# add layer control to show different maps\n",
    "folium.LayerControl().add_to(map_layer_control)\n",
    "\n",
    "# display map\n",
    "map_layer_control"
   ]
  },
  {
   "cell_type": "code",
<<<<<<< HEAD
   "execution_count": null,
   "metadata": {},
   "outputs": [],
=======
   "execution_count": 10,
   "metadata": {
    "scrolled": true
   },
   "outputs": [
    {
     "ename": "NameError",
     "evalue": "name 'folium' is not defined",
     "output_type": "error",
     "traceback": [
      "\u001b[1;31m---------------------------------------------------------------------------\u001b[0m",
      "\u001b[1;31mNameError\u001b[0m                                 Traceback (most recent call last)",
      "\u001b[1;32m<ipython-input-10-8d9faecbaca0>\u001b[0m in \u001b[0;36m<module>\u001b[1;34m\u001b[0m\n\u001b[0;32m      2\u001b[0m \u001b[1;33m\u001b[0m\u001b[0m\n\u001b[0;32m      3\u001b[0m \u001b[1;31m# map\u001b[0m\u001b[1;33m\u001b[0m\u001b[1;33m\u001b[0m\u001b[1;33m\u001b[0m\u001b[0m\n\u001b[1;32m----> 4\u001b[1;33m \u001b[0mmap_with_mini\u001b[0m \u001b[1;33m=\u001b[0m \u001b[0mfolium\u001b[0m\u001b[1;33m.\u001b[0m\u001b[0mMap\u001b[0m\u001b[1;33m(\u001b[0m\u001b[0mlocation\u001b[0m\u001b[1;33m=\u001b[0m\u001b[1;33m(\u001b[0m\u001b[1;36m39\u001b[0m\u001b[1;33m,\u001b[0m \u001b[1;33m-\u001b[0m\u001b[1;36m100\u001b[0m\u001b[1;33m)\u001b[0m\u001b[1;33m,\u001b[0m \u001b[0mzoom_start\u001b[0m\u001b[1;33m=\u001b[0m\u001b[1;36m7\u001b[0m\u001b[1;33m)\u001b[0m\u001b[1;33m\u001b[0m\u001b[1;33m\u001b[0m\u001b[0m\n\u001b[0m\u001b[0;32m      5\u001b[0m \u001b[1;33m\u001b[0m\u001b[0m\n\u001b[0;32m      6\u001b[0m \u001b[1;31m# plugin for mini map\u001b[0m\u001b[1;33m\u001b[0m\u001b[1;33m\u001b[0m\u001b[1;33m\u001b[0m\u001b[0m\n",
      "\u001b[1;31mNameError\u001b[0m: name 'folium' is not defined"
     ]
    }
   ],
>>>>>>> 346f936504c41cd2de49f9f7a0b507ea5e8cd490
   "source": [
    "# mini map, scroll zoom toggle button, full screen\n",
    "\n",
    "# map\n",
    "map_with_mini = folium.Map(location=(39, -100), zoom_start=7)\n",
    "\n",
    "# plugin for mini map\n",
    "minimap = plugins.MiniMap(toggle_display=True)\n",
    "\n",
    "# add minimap to map\n",
    "map_with_mini.add_child(minimap)\n",
    "\n",
    "# add scroll zoom toggler to map\n",
    "plugins.ScrollZoomToggler().add_to(map_with_mini)\n",
    "\n",
    "# add full screen button to map\n",
    "plugins.Fullscreen(position='topright').add_to(map_with_mini)\n",
    "\n",
    "# display map\n",
    "map_with_mini"
   ]
  },
  {
   "cell_type": "markdown",
   "metadata": {},
   "source": [
    "# Markers"
   ]
  },
  {
   "cell_type": "code",
<<<<<<< HEAD
   "execution_count": null,
   "metadata": {},
   "outputs": [],
=======
   "execution_count": 11,
   "metadata": {},
   "outputs": [
    {
     "name": "stdout",
     "output_type": "stream",
     "text": [
      "Object `folium.Marker` not found.\n"
     ]
    }
   ],
>>>>>>> 346f936504c41cd2de49f9f7a0b507ea5e8cd490
   "source": [
    "folium.Marker?"
   ]
  },
  {
   "cell_type": "code",
<<<<<<< HEAD
   "execution_count": null,
   "metadata": {
    "scrolled": false
   },
   "outputs": [],
=======
   "execution_count": 12,
   "metadata": {
    "scrolled": false
   },
   "outputs": [
    {
     "ename": "NameError",
     "evalue": "name 'folium' is not defined",
     "output_type": "error",
     "traceback": [
      "\u001b[1;31m---------------------------------------------------------------------------\u001b[0m",
      "\u001b[1;31mNameError\u001b[0m                                 Traceback (most recent call last)",
      "\u001b[1;32m<ipython-input-12-e9259733db3f>\u001b[0m in \u001b[0;36m<module>\u001b[1;34m\u001b[0m\n\u001b[0;32m      2\u001b[0m \u001b[1;33m\u001b[0m\u001b[0m\n\u001b[0;32m      3\u001b[0m \u001b[1;31m# map\u001b[0m\u001b[1;33m\u001b[0m\u001b[1;33m\u001b[0m\u001b[1;33m\u001b[0m\u001b[0m\n\u001b[1;32m----> 4\u001b[1;33m \u001b[0mmap_zoo\u001b[0m \u001b[1;33m=\u001b[0m \u001b[0mfolium\u001b[0m\u001b[1;33m.\u001b[0m\u001b[0mMap\u001b[0m\u001b[1;33m(\u001b[0m\u001b[0mlocation\u001b[0m\u001b[1;33m=\u001b[0m\u001b[1;33m[\u001b[0m\u001b[1;36m32.744524\u001b[0m\u001b[1;33m,\u001b[0m \u001b[1;33m-\u001b[0m\u001b[1;36m117.150302\u001b[0m\u001b[1;33m]\u001b[0m\u001b[1;33m,\u001b[0m \u001b[0mzoom_start\u001b[0m\u001b[1;33m=\u001b[0m\u001b[1;36m14\u001b[0m\u001b[1;33m)\u001b[0m\u001b[1;33m\u001b[0m\u001b[1;33m\u001b[0m\u001b[0m\n\u001b[0m\u001b[0;32m      5\u001b[0m \u001b[1;33m\u001b[0m\u001b[0m\n\u001b[0;32m      6\u001b[0m \u001b[1;31m# get location information for address\u001b[0m\u001b[1;33m\u001b[0m\u001b[1;33m\u001b[0m\u001b[1;33m\u001b[0m\u001b[0m\n",
      "\u001b[1;31mNameError\u001b[0m: name 'folium' is not defined"
     ]
    }
   ],
>>>>>>> 346f936504c41cd2de49f9f7a0b507ea5e8cd490
   "source": [
    "# geocode address and place marker on map\n",
    "\n",
    "# map\n",
    "map_zoo = folium.Map(location=[32.744524, -117.150302], zoom_start=14)\n",
    "\n",
    "# get location information for address\n",
    "address = geocoder.osm('2920 Zoo Dr, San Diego, CA 92101')\n",
    "\n",
    "# address latitude and longitude\n",
    "address_latlng = [address.lat, address.lng]\n",
    "\n",
    "# add marker to map\n",
    "folium.Marker(address_latlng, popup='San Diego Zoo', tooltip='click').add_to(map_zoo)\n",
    "\n",
    "# display map\n",
    "map_zoo"
   ]
  },
  {
   "cell_type": "code",
<<<<<<< HEAD
   "execution_count": null,
   "metadata": {},
   "outputs": [],
=======
   "execution_count": 13,
   "metadata": {},
   "outputs": [
    {
     "ename": "NameError",
     "evalue": "name 'vds' is not defined",
     "output_type": "error",
     "traceback": [
      "\u001b[1;31m---------------------------------------------------------------------------\u001b[0m",
      "\u001b[1;31mNameError\u001b[0m                                 Traceback (most recent call last)",
      "\u001b[1;32m<ipython-input-13-966909f8b0b1>\u001b[0m in \u001b[0;36m<module>\u001b[1;34m\u001b[0m\n\u001b[0;32m      1\u001b[0m \u001b[1;31m# airports dataframe using vega_datasets\u001b[0m\u001b[1;33m\u001b[0m\u001b[1;33m\u001b[0m\u001b[1;33m\u001b[0m\u001b[0m\n\u001b[1;32m----> 2\u001b[1;33m \u001b[0mairports\u001b[0m \u001b[1;33m=\u001b[0m \u001b[0mvds\u001b[0m\u001b[1;33m.\u001b[0m\u001b[0mairports\u001b[0m\u001b[1;33m(\u001b[0m\u001b[1;33m)\u001b[0m\u001b[1;33m\u001b[0m\u001b[1;33m\u001b[0m\u001b[0m\n\u001b[0m\u001b[0;32m      3\u001b[0m \u001b[0mairports\u001b[0m \u001b[1;33m=\u001b[0m \u001b[0mairports\u001b[0m\u001b[1;33m[\u001b[0m\u001b[1;33m:\u001b[0m\u001b[1;36m25\u001b[0m\u001b[1;33m]\u001b[0m\u001b[1;33m\u001b[0m\u001b[1;33m\u001b[0m\u001b[0m\n\u001b[0;32m      4\u001b[0m \u001b[0mairports\u001b[0m\u001b[1;33m.\u001b[0m\u001b[0mhead\u001b[0m\u001b[1;33m(\u001b[0m\u001b[1;33m)\u001b[0m\u001b[1;33m\u001b[0m\u001b[1;33m\u001b[0m\u001b[0m\n",
      "\u001b[1;31mNameError\u001b[0m: name 'vds' is not defined"
     ]
    }
   ],
>>>>>>> 346f936504c41cd2de49f9f7a0b507ea5e8cd490
   "source": [
    "# airports dataframe using vega_datasets\n",
    "airports = vds.airports()\n",
    "airports = airports[:25]\n",
    "airports.head()"
   ]
  },
  {
   "cell_type": "code",
<<<<<<< HEAD
   "execution_count": null,
   "metadata": {},
   "outputs": [],
=======
   "execution_count": 14,
   "metadata": {},
   "outputs": [
    {
     "ename": "NameError",
     "evalue": "name 'folium' is not defined",
     "output_type": "error",
     "traceback": [
      "\u001b[1;31m---------------------------------------------------------------------------\u001b[0m",
      "\u001b[1;31mNameError\u001b[0m                                 Traceback (most recent call last)",
      "\u001b[1;32m<ipython-input-14-5c881925a70e>\u001b[0m in \u001b[0;36m<module>\u001b[1;34m\u001b[0m\n\u001b[0;32m      3\u001b[0m \u001b[1;33m\u001b[0m\u001b[0m\n\u001b[0;32m      4\u001b[0m \u001b[1;31m# create map\u001b[0m\u001b[1;33m\u001b[0m\u001b[1;33m\u001b[0m\u001b[1;33m\u001b[0m\u001b[0m\n\u001b[1;32m----> 5\u001b[1;33m \u001b[0mmap_airports\u001b[0m \u001b[1;33m=\u001b[0m \u001b[0mfolium\u001b[0m\u001b[1;33m.\u001b[0m\u001b[0mMap\u001b[0m\u001b[1;33m(\u001b[0m\u001b[0mlocation\u001b[0m\u001b[1;33m=\u001b[0m\u001b[1;33m[\u001b[0m\u001b[1;36m38\u001b[0m\u001b[1;33m,\u001b[0m \u001b[1;33m-\u001b[0m\u001b[1;36m98\u001b[0m\u001b[1;33m]\u001b[0m\u001b[1;33m,\u001b[0m \u001b[0mzoom_start\u001b[0m\u001b[1;33m=\u001b[0m\u001b[1;36m4\u001b[0m\u001b[1;33m)\u001b[0m\u001b[1;33m\u001b[0m\u001b[1;33m\u001b[0m\u001b[0m\n\u001b[0m\u001b[0;32m      6\u001b[0m \u001b[1;33m\u001b[0m\u001b[0m\n\u001b[0;32m      7\u001b[0m \u001b[1;31m# plot airport locations\u001b[0m\u001b[1;33m\u001b[0m\u001b[1;33m\u001b[0m\u001b[1;33m\u001b[0m\u001b[0m\n",
      "\u001b[1;31mNameError\u001b[0m: name 'folium' is not defined"
     ]
    }
   ],
>>>>>>> 346f936504c41cd2de49f9f7a0b507ea5e8cd490
   "source": [
    "# multiple markers using dataframe\n",
    "# there is an example below using apply function instead of loop\n",
    "\n",
    "# create map\n",
    "map_airports = folium.Map(location=[38, -98], zoom_start=4)\n",
    "\n",
    "# plot airport locations\n",
    "for (index, row) in airports.iterrows():\n",
    "    folium.Marker(location=[row.loc['latitude'], row.loc['longitude']], \n",
    "                  popup=row.loc['name'] + ' ' + row.loc['city'] + ' ' + row.loc['state'], \n",
    "                  tooltip='click').add_to(map_airports)\n",
    "    \n",
    "# display map    \n",
    "map_airports"
   ]
  },
  {
   "cell_type": "code",
<<<<<<< HEAD
   "execution_count": null,
   "metadata": {},
   "outputs": [],
=======
   "execution_count": 15,
   "metadata": {},
   "outputs": [
    {
     "ename": "NameError",
     "evalue": "name 'airports' is not defined",
     "output_type": "error",
     "traceback": [
      "\u001b[1;31m---------------------------------------------------------------------------\u001b[0m",
      "\u001b[1;31mNameError\u001b[0m                                 Traceback (most recent call last)",
      "\u001b[1;32m<ipython-input-15-e5b0284ad075>\u001b[0m in \u001b[0;36m<module>\u001b[1;34m\u001b[0m\n\u001b[1;32m----> 1\u001b[1;33m \u001b[1;32mfor\u001b[0m \u001b[1;33m(\u001b[0m\u001b[0mindex\u001b[0m\u001b[1;33m,\u001b[0m \u001b[0mrow\u001b[0m\u001b[1;33m)\u001b[0m \u001b[1;32min\u001b[0m \u001b[0mairports\u001b[0m\u001b[1;33m.\u001b[0m\u001b[0miterrows\u001b[0m\u001b[1;33m(\u001b[0m\u001b[1;33m)\u001b[0m\u001b[1;33m:\u001b[0m\u001b[1;33m\u001b[0m\u001b[1;33m\u001b[0m\u001b[0m\n\u001b[0m\u001b[0;32m      2\u001b[0m     \u001b[1;31m# print(row.loc['name'])\u001b[0m\u001b[1;33m\u001b[0m\u001b[1;33m\u001b[0m\u001b[1;33m\u001b[0m\u001b[0m\n\u001b[0;32m      3\u001b[0m     \u001b[1;31m# print(index,row['name'])\u001b[0m\u001b[1;33m\u001b[0m\u001b[1;33m\u001b[0m\u001b[1;33m\u001b[0m\u001b[0m\n\u001b[0;32m      4\u001b[0m     \u001b[0mprint\u001b[0m\u001b[1;33m(\u001b[0m\u001b[0mindex\u001b[0m\u001b[1;33m,\u001b[0m\u001b[0mrow\u001b[0m\u001b[1;33m)\u001b[0m\u001b[1;33m\u001b[0m\u001b[1;33m\u001b[0m\u001b[0m\n",
      "\u001b[1;31mNameError\u001b[0m: name 'airports' is not defined"
     ]
    }
   ],
>>>>>>> 346f936504c41cd2de49f9f7a0b507ea5e8cd490
   "source": [
    "for (index, row) in airports.iterrows():\n",
    "    # print(row.loc['name'])\n",
    "    # print(index,row['name'])\n",
    "    print(index,row)"
   ]
  },
  {
   "cell_type": "code",
<<<<<<< HEAD
   "execution_count": null,
   "metadata": {},
   "outputs": [],
=======
   "execution_count": 16,
   "metadata": {},
   "outputs": [
    {
     "ename": "NameError",
     "evalue": "name 'folium' is not defined",
     "output_type": "error",
     "traceback": [
      "\u001b[1;31m---------------------------------------------------------------------------\u001b[0m",
      "\u001b[1;31mNameError\u001b[0m                                 Traceback (most recent call last)",
      "\u001b[1;32m<ipython-input-16-24571a2fa3c5>\u001b[0m in \u001b[0;36m<module>\u001b[1;34m\u001b[0m\n\u001b[0;32m      2\u001b[0m \u001b[1;33m\u001b[0m\u001b[0m\n\u001b[0;32m      3\u001b[0m \u001b[1;31m# map\u001b[0m\u001b[1;33m\u001b[0m\u001b[1;33m\u001b[0m\u001b[1;33m\u001b[0m\u001b[0m\n\u001b[1;32m----> 4\u001b[1;33m \u001b[0mmap_airports2\u001b[0m \u001b[1;33m=\u001b[0m \u001b[0mfolium\u001b[0m\u001b[1;33m.\u001b[0m\u001b[0mMap\u001b[0m\u001b[1;33m(\u001b[0m\u001b[0mlocation\u001b[0m\u001b[1;33m=\u001b[0m\u001b[1;33m[\u001b[0m\u001b[1;36m38\u001b[0m\u001b[1;33m,\u001b[0m \u001b[1;33m-\u001b[0m\u001b[1;36m98\u001b[0m\u001b[1;33m]\u001b[0m\u001b[1;33m,\u001b[0m \u001b[0mzoom_start\u001b[0m\u001b[1;33m=\u001b[0m\u001b[1;36m4\u001b[0m\u001b[1;33m)\u001b[0m\u001b[1;33m\u001b[0m\u001b[1;33m\u001b[0m\u001b[0m\n\u001b[0m\u001b[0;32m      5\u001b[0m \u001b[1;33m\u001b[0m\u001b[0m\n\u001b[0;32m      6\u001b[0m \u001b[1;31m# plot airport locations using apply\u001b[0m\u001b[1;33m\u001b[0m\u001b[1;33m\u001b[0m\u001b[1;33m\u001b[0m\u001b[0m\n",
      "\u001b[1;31mNameError\u001b[0m: name 'folium' is not defined"
     ]
    }
   ],
>>>>>>> 346f936504c41cd2de49f9f7a0b507ea5e8cd490
   "source": [
    "# markers with apply function\n",
    "\n",
    "# map\n",
    "map_airports2 = folium.Map(location=[38, -98], zoom_start=4)\n",
    "\n",
    "# plot airport locations using apply\n",
    "airports.apply(lambda row: folium.Marker(location=[row['latitude'], row['longitude']],\n",
    "                                         popup=row['name']).add_to(map_airports2), axis=1)\n",
    "\n",
    "# display map\n",
    "map_airports2                                                "
   ]
  },
  {
   "cell_type": "code",
<<<<<<< HEAD
   "execution_count": null,
   "metadata": {},
   "outputs": [],
=======
   "execution_count": 17,
   "metadata": {},
   "outputs": [
    {
     "name": "stdout",
     "output_type": "stream",
     "text": [
      "Object `airports.apply` not found.\n"
     ]
    }
   ],
>>>>>>> 346f936504c41cd2de49f9f7a0b507ea5e8cd490
   "source": [
    "airports.apply?"
   ]
  },
  {
   "cell_type": "code",
<<<<<<< HEAD
   "execution_count": null,
   "metadata": {},
   "outputs": [],
=======
   "execution_count": 18,
   "metadata": {},
   "outputs": [
    {
     "ename": "NameError",
     "evalue": "name 'folium' is not defined",
     "output_type": "error",
     "traceback": [
      "\u001b[1;31m---------------------------------------------------------------------------\u001b[0m",
      "\u001b[1;31mNameError\u001b[0m                                 Traceback (most recent call last)",
      "\u001b[1;32m<ipython-input-18-90b8213232e6>\u001b[0m in \u001b[0;36m<module>\u001b[1;34m\u001b[0m\n\u001b[0;32m      8\u001b[0m \u001b[1;33m\u001b[0m\u001b[0m\n\u001b[0;32m      9\u001b[0m \u001b[1;31m# create map\u001b[0m\u001b[1;33m\u001b[0m\u001b[1;33m\u001b[0m\u001b[1;33m\u001b[0m\u001b[0m\n\u001b[1;32m---> 10\u001b[1;33m \u001b[0mmap_cities\u001b[0m \u001b[1;33m=\u001b[0m \u001b[0mfolium\u001b[0m\u001b[1;33m.\u001b[0m\u001b[0mMap\u001b[0m\u001b[1;33m(\u001b[0m\u001b[0mlocation\u001b[0m\u001b[1;33m=\u001b[0m\u001b[1;33m[\u001b[0m\u001b[1;36m41\u001b[0m\u001b[1;33m,\u001b[0m \u001b[1;33m-\u001b[0m\u001b[1;36m99\u001b[0m\u001b[1;33m]\u001b[0m\u001b[1;33m,\u001b[0m \u001b[0mzoom_start\u001b[0m\u001b[1;33m=\u001b[0m\u001b[1;36m4\u001b[0m\u001b[1;33m)\u001b[0m\u001b[1;33m\u001b[0m\u001b[1;33m\u001b[0m\u001b[0m\n\u001b[0m\u001b[0;32m     11\u001b[0m \u001b[1;33m\u001b[0m\u001b[0m\n\u001b[0;32m     12\u001b[0m \u001b[1;31m# plot locations\u001b[0m\u001b[1;33m\u001b[0m\u001b[1;33m\u001b[0m\u001b[1;33m\u001b[0m\u001b[0m\n",
      "\u001b[1;31mNameError\u001b[0m: name 'folium' is not defined"
     ]
    }
   ],
>>>>>>> 346f936504c41cd2de49f9f7a0b507ea5e8cd490
   "source": [
    "# multiple markers using dictionary\n",
    "\n",
    "markers_dict = {'Los Angeles': [34.041008, -118.246653], \n",
    "                'Las Vegas': [36.169726, -115.143996], \n",
    "                'Denver': [39.739448, -104.992450], \n",
    "                'Chicago': [41.878765, -87.643267], \n",
    "                'Manhattan': [40.782949, -73.969559]}\n",
    "\n",
    "# create map\n",
    "map_cities = folium.Map(location=[41, -99], zoom_start=4)\n",
    "\n",
    "# plot locations\n",
    "for i in markers_dict.items():\n",
    "    folium.Marker(location=i[1], popup=i[0]).add_to(map_cities)\n",
    "    print(i)\n",
    "\n",
    "# display map    \n",
    "map_cities"
   ]
  },
  {
   "cell_type": "markdown",
   "metadata": {},
   "source": [
    "# Custom Markers"
   ]
  },
  {
   "cell_type": "code",
<<<<<<< HEAD
   "execution_count": null,
   "metadata": {},
   "outputs": [],
=======
   "execution_count": 19,
   "metadata": {},
   "outputs": [
    {
     "name": "stdout",
     "output_type": "stream",
     "text": [
      "Object `folium.Icon` not found.\n"
     ]
    }
   ],
>>>>>>> 346f936504c41cd2de49f9f7a0b507ea5e8cd490
   "source": [
    "folium.Icon?"
   ]
  },
  {
   "cell_type": "code",
<<<<<<< HEAD
   "execution_count": null,
   "metadata": {
    "scrolled": false
   },
   "outputs": [],
=======
   "execution_count": 20,
   "metadata": {
    "scrolled": false
   },
   "outputs": [
    {
     "ename": "NameError",
     "evalue": "name 'folium' is not defined",
     "output_type": "error",
     "traceback": [
      "\u001b[1;31m---------------------------------------------------------------------------\u001b[0m",
      "\u001b[1;31mNameError\u001b[0m                                 Traceback (most recent call last)",
      "\u001b[1;32m<ipython-input-20-67a67a4fb155>\u001b[0m in \u001b[0;36m<module>\u001b[1;34m\u001b[0m\n\u001b[0;32m      2\u001b[0m \u001b[1;33m\u001b[0m\u001b[0m\n\u001b[0;32m      3\u001b[0m \u001b[1;31m# map\u001b[0m\u001b[1;33m\u001b[0m\u001b[1;33m\u001b[0m\u001b[1;33m\u001b[0m\u001b[0m\n\u001b[1;32m----> 4\u001b[1;33m \u001b[0mmap_cm_fa\u001b[0m \u001b[1;33m=\u001b[0m \u001b[0mfolium\u001b[0m\u001b[1;33m.\u001b[0m\u001b[0mMap\u001b[0m\u001b[1;33m(\u001b[0m\u001b[0mlocation\u001b[0m\u001b[1;33m=\u001b[0m\u001b[1;33m[\u001b[0m\u001b[1;36m38\u001b[0m\u001b[1;33m,\u001b[0m \u001b[1;33m-\u001b[0m\u001b[1;36m98\u001b[0m\u001b[1;33m]\u001b[0m\u001b[1;33m,\u001b[0m \u001b[0mzoom_start\u001b[0m\u001b[1;33m=\u001b[0m\u001b[1;36m4\u001b[0m\u001b[1;33m)\u001b[0m\u001b[1;33m\u001b[0m\u001b[1;33m\u001b[0m\u001b[0m\n\u001b[0m\u001b[0;32m      5\u001b[0m \u001b[1;33m\u001b[0m\u001b[0m\n\u001b[0;32m      6\u001b[0m \u001b[1;31m# add custom marker to map\u001b[0m\u001b[1;33m\u001b[0m\u001b[1;33m\u001b[0m\u001b[1;33m\u001b[0m\u001b[0m\n",
      "\u001b[1;31mNameError\u001b[0m: name 'folium' is not defined"
     ]
    }
   ],
>>>>>>> 346f936504c41cd2de49f9f7a0b507ea5e8cd490
   "source": [
    "# search for 'font awesome' icons to see examples\n",
    "\n",
    "# map\n",
    "map_cm_fa = folium.Map(location=[38, -98], zoom_start=4)\n",
    "\n",
    "# add custom marker to map\n",
    "folium.Marker(location=[38, -98], \n",
    "              popup='popup', \n",
    "              icon=folium.Icon(color='green', icon='bolt', prefix='fa')).add_to(map_cm_fa)\n",
    "\n",
    "# display map\n",
    "map_cm_fa"
   ]
  },
  {
   "cell_type": "code",
<<<<<<< HEAD
   "execution_count": null,
   "metadata": {},
   "outputs": [],
=======
   "execution_count": 21,
   "metadata": {},
   "outputs": [
    {
     "ename": "NameError",
     "evalue": "name 'folium' is not defined",
     "output_type": "error",
     "traceback": [
      "\u001b[1;31m---------------------------------------------------------------------------\u001b[0m",
      "\u001b[1;31mNameError\u001b[0m                                 Traceback (most recent call last)",
      "\u001b[1;32m<ipython-input-21-1c5116bf8c64>\u001b[0m in \u001b[0;36m<module>\u001b[1;34m\u001b[0m\n\u001b[0;32m      2\u001b[0m \u001b[1;33m\u001b[0m\u001b[0m\n\u001b[0;32m      3\u001b[0m \u001b[1;31m# map\u001b[0m\u001b[1;33m\u001b[0m\u001b[1;33m\u001b[0m\u001b[1;33m\u001b[0m\u001b[0m\n\u001b[1;32m----> 4\u001b[1;33m \u001b[0mmap_cm_glyphicon\u001b[0m \u001b[1;33m=\u001b[0m \u001b[0mfolium\u001b[0m\u001b[1;33m.\u001b[0m\u001b[0mMap\u001b[0m\u001b[1;33m(\u001b[0m\u001b[0mlocation\u001b[0m\u001b[1;33m=\u001b[0m\u001b[1;33m[\u001b[0m\u001b[1;36m38\u001b[0m\u001b[1;33m,\u001b[0m \u001b[1;33m-\u001b[0m\u001b[1;36m98\u001b[0m\u001b[1;33m]\u001b[0m\u001b[1;33m,\u001b[0m \u001b[0mzoom_start\u001b[0m\u001b[1;33m=\u001b[0m\u001b[1;36m4\u001b[0m\u001b[1;33m)\u001b[0m\u001b[1;33m\u001b[0m\u001b[1;33m\u001b[0m\u001b[0m\n\u001b[0m\u001b[0;32m      5\u001b[0m \u001b[1;33m\u001b[0m\u001b[0m\n\u001b[0;32m      6\u001b[0m \u001b[1;31m# add custom marker to map\u001b[0m\u001b[1;33m\u001b[0m\u001b[1;33m\u001b[0m\u001b[1;33m\u001b[0m\u001b[0m\n",
      "\u001b[1;31mNameError\u001b[0m: name 'folium' is not defined"
     ]
    }
   ],
>>>>>>> 346f936504c41cd2de49f9f7a0b507ea5e8cd490
   "source": [
    "# search for 'glyphicon bootstrap' icons to see examples\n",
    "\n",
    "# map\n",
    "map_cm_glyphicon = folium.Map(location=[38, -98], zoom_start=4)\n",
    "\n",
    "# add custom marker to map\n",
    "folium.Marker(location=[38, -98], \n",
    "              popup='popup', \n",
    "              icon=folium.Icon(icon='glyphicon-plane', prefix='glyphicon')).add_to(map_cm_glyphicon)\n",
    "\n",
    "# display map\n",
    "map_cm_glyphicon"
   ]
  },
  {
   "cell_type": "code",
   "execution_count": 22,
   "metadata": {},
   "outputs": [
    {
<<<<<<< HEAD
     "data": {
      "text/html": [
       "<div>\n",
       "<style scoped>\n",
       "    .dataframe tbody tr th:only-of-type {\n",
       "        vertical-align: middle;\n",
       "    }\n",
       "\n",
       "    .dataframe tbody tr th {\n",
       "        vertical-align: top;\n",
       "    }\n",
       "\n",
       "    .dataframe thead th {\n",
       "        text-align: right;\n",
       "    }\n",
       "</style>\n",
       "<table border=\"1\" class=\"dataframe\">\n",
       "  <thead>\n",
       "    <tr style=\"text-align: right;\">\n",
       "      <th></th>\n",
       "      <th>city</th>\n",
       "      <th>latitude</th>\n",
       "      <th>longitude</th>\n",
       "      <th>icon</th>\n",
       "    </tr>\n",
       "  </thead>\n",
       "  <tbody>\n",
       "    <tr>\n",
       "      <th>0</th>\n",
       "      <td>Los Angeles</td>\n",
       "      <td>34.041008</td>\n",
       "      <td>-118.246653</td>\n",
       "      <td>bicycle</td>\n",
       "    </tr>\n",
       "    <tr>\n",
       "      <th>1</th>\n",
       "      <td>Las Vegas</td>\n",
       "      <td>36.169726</td>\n",
       "      <td>-115.143996</td>\n",
       "      <td>car</td>\n",
       "    </tr>\n",
       "    <tr>\n",
       "      <th>2</th>\n",
       "      <td>Denver</td>\n",
       "      <td>39.739448</td>\n",
       "      <td>-104.992450</td>\n",
       "      <td>bus</td>\n",
       "    </tr>\n",
       "    <tr>\n",
       "      <th>3</th>\n",
       "      <td>Chicago</td>\n",
       "      <td>41.878765</td>\n",
       "      <td>-87.643267</td>\n",
       "      <td>truck</td>\n",
       "    </tr>\n",
       "    <tr>\n",
       "      <th>4</th>\n",
       "      <td>Manhattan</td>\n",
       "      <td>40.782949</td>\n",
       "      <td>-73.969559</td>\n",
       "      <td>motorcycle</td>\n",
       "    </tr>\n",
       "  </tbody>\n",
       "</table>\n",
       "</div>"
      ],
      "text/plain": [
       "          city   latitude   longitude        icon\n",
       "0  Los Angeles  34.041008 -118.246653     bicycle\n",
       "1    Las Vegas  36.169726 -115.143996         car\n",
       "2       Denver  39.739448 -104.992450         bus\n",
       "3      Chicago  41.878765  -87.643267       truck\n",
       "4    Manhattan  40.782949  -73.969559  motorcycle"
      ]
     },
     "execution_count": 22,
     "metadata": {},
     "output_type": "execute_result"
=======
     "ename": "NameError",
     "evalue": "name 'pd' is not defined",
     "output_type": "error",
     "traceback": [
      "\u001b[1;31m---------------------------------------------------------------------------\u001b[0m",
      "\u001b[1;31mNameError\u001b[0m                                 Traceback (most recent call last)",
      "\u001b[1;32m<ipython-input-22-5ea35e82baca>\u001b[0m in \u001b[0;36m<module>\u001b[1;34m\u001b[0m\n\u001b[0;32m      2\u001b[0m \u001b[1;33m\u001b[0m\u001b[0m\n\u001b[0;32m      3\u001b[0m \u001b[1;31m# dataframe with custom marker names\u001b[0m\u001b[1;33m\u001b[0m\u001b[1;33m\u001b[0m\u001b[1;33m\u001b[0m\u001b[0m\n\u001b[1;32m----> 4\u001b[1;33m cm_df = pd.DataFrame({'city': ['Los Angeles', 'Las Vegas', 'Denver', 'Chicago', 'Manhattan'],\n\u001b[0m\u001b[0;32m      5\u001b[0m                       \u001b[1;34m'latitude'\u001b[0m\u001b[1;33m:\u001b[0m \u001b[1;33m[\u001b[0m\u001b[1;36m34.041008\u001b[0m\u001b[1;33m,\u001b[0m \u001b[1;36m36.169726\u001b[0m\u001b[1;33m,\u001b[0m \u001b[1;36m39.739448\u001b[0m\u001b[1;33m,\u001b[0m \u001b[1;36m41.878765\u001b[0m\u001b[1;33m,\u001b[0m \u001b[1;36m40.782949\u001b[0m\u001b[1;33m]\u001b[0m\u001b[1;33m,\u001b[0m\u001b[1;33m\u001b[0m\u001b[1;33m\u001b[0m\u001b[0m\n\u001b[0;32m      6\u001b[0m                       \u001b[1;34m'longitude'\u001b[0m\u001b[1;33m:\u001b[0m \u001b[1;33m[\u001b[0m\u001b[1;33m-\u001b[0m\u001b[1;36m118.246653\u001b[0m\u001b[1;33m,\u001b[0m \u001b[1;33m-\u001b[0m\u001b[1;36m115.143996\u001b[0m\u001b[1;33m,\u001b[0m \u001b[1;33m-\u001b[0m\u001b[1;36m104.992450\u001b[0m\u001b[1;33m,\u001b[0m \u001b[1;33m-\u001b[0m\u001b[1;36m87.643267\u001b[0m\u001b[1;33m,\u001b[0m \u001b[1;33m-\u001b[0m\u001b[1;36m73.969559\u001b[0m\u001b[1;33m]\u001b[0m\u001b[1;33m,\u001b[0m\u001b[1;33m\u001b[0m\u001b[1;33m\u001b[0m\u001b[0m\n",
      "\u001b[1;31mNameError\u001b[0m: name 'pd' is not defined"
     ]
>>>>>>> 346f936504c41cd2de49f9f7a0b507ea5e8cd490
    }
   ],
   "source": [
    "# multiple custom markers\n",
    "\n",
    "# dataframe with custom marker names\n",
    "cm_df = pd.DataFrame({'city': ['Los Angeles', 'Las Vegas', 'Denver', 'Chicago', 'Manhattan'],\n",
    "                      'latitude': [34.041008, 36.169726, 39.739448, 41.878765, 40.782949],\n",
    "                      'longitude': [-118.246653, -115.143996, -104.992450, -87.643267, -73.969559],\n",
    "                      'icon': ['bicycle', 'car', 'bus', 'truck', 'motorcycle']})\n",
    "cm_df"
   ]
  },
  {
   "cell_type": "code",
   "execution_count": 23,
   "metadata": {},
   "outputs": [
    {
<<<<<<< HEAD
     "data": {
      "text/html": [
       "<div style=\"width:100%;\"><div style=\"position:relative;width:100%;height:0;padding-bottom:60%;\"><span style=\"color:#565656\">Make this Notebook Trusted to load map: File -> Trust Notebook</span><iframe src=\"about:blank\" style=\"position:absolute;width:100%;height:100%;left:0;top:0;border:none !important;\" data-html=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 onload=\"this.contentDocument.open();this.contentDocument.write(atob(this.getAttribute('data-html')));this.contentDocument.close();\" allowfullscreen webkitallowfullscreen mozallowfullscreen></iframe></div></div>"
      ],
      "text/plain": [
       "<folium.folium.Map at 0x248fcf0bd30>"
      ]
     },
     "execution_count": 23,
     "metadata": {},
     "output_type": "execute_result"
=======
     "ename": "NameError",
     "evalue": "name 'folium' is not defined",
     "output_type": "error",
     "traceback": [
      "\u001b[1;31m---------------------------------------------------------------------------\u001b[0m",
      "\u001b[1;31mNameError\u001b[0m                                 Traceback (most recent call last)",
      "\u001b[1;32m<ipython-input-23-3e1f540e13e2>\u001b[0m in \u001b[0;36m<module>\u001b[1;34m\u001b[0m\n\u001b[0;32m      1\u001b[0m \u001b[1;31m# map\u001b[0m\u001b[1;33m\u001b[0m\u001b[1;33m\u001b[0m\u001b[1;33m\u001b[0m\u001b[0m\n\u001b[1;32m----> 2\u001b[1;33m \u001b[0mmap_cm_multiple\u001b[0m \u001b[1;33m=\u001b[0m \u001b[0mfolium\u001b[0m\u001b[1;33m.\u001b[0m\u001b[0mMap\u001b[0m\u001b[1;33m(\u001b[0m\u001b[0mlocation\u001b[0m\u001b[1;33m=\u001b[0m\u001b[1;33m[\u001b[0m\u001b[1;36m38\u001b[0m\u001b[1;33m,\u001b[0m \u001b[1;33m-\u001b[0m\u001b[1;36m98\u001b[0m\u001b[1;33m]\u001b[0m\u001b[1;33m,\u001b[0m \u001b[0mzoom_start\u001b[0m\u001b[1;33m=\u001b[0m\u001b[1;36m4\u001b[0m\u001b[1;33m)\u001b[0m\u001b[1;33m\u001b[0m\u001b[1;33m\u001b[0m\u001b[0m\n\u001b[0m\u001b[0;32m      3\u001b[0m \u001b[1;33m\u001b[0m\u001b[0m\n\u001b[0;32m      4\u001b[0m \u001b[1;31m# add markers to map\u001b[0m\u001b[1;33m\u001b[0m\u001b[1;33m\u001b[0m\u001b[1;33m\u001b[0m\u001b[0m\n\u001b[0;32m      5\u001b[0m \u001b[1;31m# for loop with itertuples (experiment that appears to work well)\u001b[0m\u001b[1;33m\u001b[0m\u001b[1;33m\u001b[0m\u001b[1;33m\u001b[0m\u001b[0m\n",
      "\u001b[1;31mNameError\u001b[0m: name 'folium' is not defined"
     ]
>>>>>>> 346f936504c41cd2de49f9f7a0b507ea5e8cd490
    }
   ],
   "source": [
    "# map\n",
    "map_cm_multiple = folium.Map(location=[38, -98], zoom_start=4)\n",
    "\n",
    "# add markers to map\n",
    "# for loop with itertuples (experiment that appears to work well)\n",
    "# can also use iterrows or dataframe apply\n",
    "for i in cm_df.itertuples():\n",
    "    folium.Marker(location=[i.latitude, i.longitude], \n",
    "                  popup=i.city,\n",
    "                  icon=folium.Icon(icon=i.icon, prefix='fa')).add_to(map_cm_multiple)\n",
    "\n",
    "# display map    \n",
    "map_cm_multiple"
   ]
  },
  {
   "cell_type": "code",
<<<<<<< HEAD
   "execution_count": null,
   "metadata": {},
   "outputs": [],
=======
   "execution_count": 24,
   "metadata": {},
   "outputs": [
    {
     "ename": "NameError",
     "evalue": "name 'cm_df' is not defined",
     "output_type": "error",
     "traceback": [
      "\u001b[1;31m---------------------------------------------------------------------------\u001b[0m",
      "\u001b[1;31mNameError\u001b[0m                                 Traceback (most recent call last)",
      "\u001b[1;32m<ipython-input-24-6c0bf9634071>\u001b[0m in \u001b[0;36m<module>\u001b[1;34m\u001b[0m\n\u001b[1;32m----> 1\u001b[1;33m \u001b[1;32mfor\u001b[0m \u001b[0mi\u001b[0m \u001b[1;32min\u001b[0m \u001b[0mcm_df\u001b[0m\u001b[1;33m.\u001b[0m\u001b[0mitertuples\u001b[0m\u001b[1;33m(\u001b[0m\u001b[1;33m)\u001b[0m\u001b[1;33m:\u001b[0m\u001b[1;33m\u001b[0m\u001b[1;33m\u001b[0m\u001b[0m\n\u001b[0m\u001b[0;32m      2\u001b[0m     \u001b[0mprint\u001b[0m\u001b[1;33m(\u001b[0m\u001b[0mi\u001b[0m\u001b[1;33m)\u001b[0m\u001b[1;33m\u001b[0m\u001b[1;33m\u001b[0m\u001b[0m\n\u001b[0;32m      3\u001b[0m     \u001b[1;31m# print(i.city)\u001b[0m\u001b[1;33m\u001b[0m\u001b[1;33m\u001b[0m\u001b[1;33m\u001b[0m\u001b[0m\n",
      "\u001b[1;31mNameError\u001b[0m: name 'cm_df' is not defined"
     ]
    }
   ],
>>>>>>> 346f936504c41cd2de49f9f7a0b507ea5e8cd490
   "source": [
    "for i in cm_df.itertuples():\n",
    "    print(i)\n",
    "    # print(i.city)"
   ]
  },
  {
   "cell_type": "code",
<<<<<<< HEAD
   "execution_count": null,
   "metadata": {},
   "outputs": [],
=======
   "execution_count": 25,
   "metadata": {},
   "outputs": [
    {
     "ename": "NameError",
     "evalue": "name 'pd' is not defined",
     "output_type": "error",
     "traceback": [
      "\u001b[1;31m---------------------------------------------------------------------------\u001b[0m",
      "\u001b[1;31mNameError\u001b[0m                                 Traceback (most recent call last)",
      "\u001b[1;32m<ipython-input-25-37d90f761a2b>\u001b[0m in \u001b[0;36m<module>\u001b[1;34m\u001b[0m\n\u001b[0;32m      2\u001b[0m \u001b[1;33m\u001b[0m\u001b[0m\n\u001b[0;32m      3\u001b[0m \u001b[1;31m# data\u001b[0m\u001b[1;33m\u001b[0m\u001b[1;33m\u001b[0m\u001b[1;33m\u001b[0m\u001b[0m\n\u001b[1;32m----> 4\u001b[1;33m cm_enum_df = pd.DataFrame({'city': ['Los Angeles', 'Las Vegas', 'Denver', 'Chicago', 'Manhattan'],\n\u001b[0m\u001b[0;32m      5\u001b[0m                            \u001b[1;34m'latitude'\u001b[0m\u001b[1;33m:\u001b[0m \u001b[1;33m[\u001b[0m\u001b[1;36m34.041008\u001b[0m\u001b[1;33m,\u001b[0m \u001b[1;36m36.169726\u001b[0m\u001b[1;33m,\u001b[0m \u001b[1;36m39.739448\u001b[0m\u001b[1;33m,\u001b[0m \u001b[1;36m41.878765\u001b[0m\u001b[1;33m,\u001b[0m \u001b[1;36m40.782949\u001b[0m\u001b[1;33m]\u001b[0m\u001b[1;33m,\u001b[0m\u001b[1;33m\u001b[0m\u001b[1;33m\u001b[0m\u001b[0m\n\u001b[0;32m      6\u001b[0m                            \u001b[1;34m'longitude'\u001b[0m\u001b[1;33m:\u001b[0m \u001b[1;33m[\u001b[0m\u001b[1;33m-\u001b[0m\u001b[1;36m118.246653\u001b[0m\u001b[1;33m,\u001b[0m \u001b[1;33m-\u001b[0m\u001b[1;36m115.143996\u001b[0m\u001b[1;33m,\u001b[0m \u001b[1;33m-\u001b[0m\u001b[1;36m104.992450\u001b[0m\u001b[1;33m,\u001b[0m \u001b[1;33m-\u001b[0m\u001b[1;36m87.643267\u001b[0m\u001b[1;33m,\u001b[0m \u001b[1;33m-\u001b[0m\u001b[1;36m73.969559\u001b[0m\u001b[1;33m]\u001b[0m\u001b[1;33m,\u001b[0m\u001b[1;33m\u001b[0m\u001b[1;33m\u001b[0m\u001b[0m\n",
      "\u001b[1;31mNameError\u001b[0m: name 'pd' is not defined"
     ]
    }
   ],
>>>>>>> 346f936504c41cd2de49f9f7a0b507ea5e8cd490
   "source": [
    "# enumerate markers\n",
    "\n",
    "# data\n",
    "cm_enum_df = pd.DataFrame({'city': ['Los Angeles', 'Las Vegas', 'Denver', 'Chicago', 'Manhattan'],\n",
    "                           'latitude': [34.041008, 36.169726, 39.739448, 41.878765, 40.782949],\n",
    "                           'longitude': [-118.246653, -115.143996, -104.992450, -87.643267, -73.969559],\n",
    "                           'icon_num': [1, 2, 3, 4, 5]})\n",
    "\n",
    "# map\n",
    "map_enum_icons = folium.Map([38, -98], zoom_start=4)\n",
    "\n",
    "# icons using plugins.BeautifyIcon\n",
    "for i in cm_enum_df.itertuples():\n",
    "    folium.Marker(location=[i.latitude, i.longitude],\n",
    "                  popup=i.city,\n",
    "                  icon=plugins.BeautifyIcon(number=i.icon_num,\n",
    "                                            border_color='blue',\n",
    "                                            border_width=1,\n",
    "                                            text_color='red',\n",
    "                                            inner_icon_style='margin-top:0px;')).add_to(map_enum_icons)\n",
    "\n",
    "# display map    \n",
    "map_enum_icons"
   ]
  },
  {
   "cell_type": "code",
<<<<<<< HEAD
   "execution_count": null,
   "metadata": {},
   "outputs": [],
=======
   "execution_count": 26,
   "metadata": {},
   "outputs": [
    {
     "ename": "NameError",
     "evalue": "name 'cm_enum_df' is not defined",
     "output_type": "error",
     "traceback": [
      "\u001b[1;31m---------------------------------------------------------------------------\u001b[0m",
      "\u001b[1;31mNameError\u001b[0m                                 Traceback (most recent call last)",
      "\u001b[1;32m<ipython-input-26-b4c11712e756>\u001b[0m in \u001b[0;36m<module>\u001b[1;34m\u001b[0m\n\u001b[1;32m----> 1\u001b[1;33m \u001b[0mcm_enum_df\u001b[0m\u001b[1;33m\u001b[0m\u001b[1;33m\u001b[0m\u001b[0m\n\u001b[0m",
      "\u001b[1;31mNameError\u001b[0m: name 'cm_enum_df' is not defined"
     ]
    }
   ],
>>>>>>> 346f936504c41cd2de49f9f7a0b507ea5e8cd490
   "source": [
    "cm_enum_df"
   ]
  },
  {
   "cell_type": "code",
<<<<<<< HEAD
   "execution_count": null,
   "metadata": {},
   "outputs": [],
=======
   "execution_count": 27,
   "metadata": {},
   "outputs": [
    {
     "name": "stdout",
     "output_type": "stream",
     "text": [
      "Object `plugins.BeautifyIcon` not found.\n"
     ]
    }
   ],
>>>>>>> 346f936504c41cd2de49f9f7a0b507ea5e8cd490
   "source": [
    "plugins.BeautifyIcon?"
   ]
  },
  {
   "cell_type": "markdown",
   "metadata": {},
   "source": [
    "# Circle Markers"
   ]
  },
  {
   "cell_type": "code",
<<<<<<< HEAD
   "execution_count": 25,
   "metadata": {},
   "outputs": [
    {
     "data": {
      "text/html": [
       "<div style=\"width:100%;\"><div style=\"position:relative;width:100%;height:0;padding-bottom:60%;\"><span style=\"color:#565656\">Make this Notebook Trusted to load map: File -> Trust Notebook</span><iframe src=\"about:blank\" style=\"position:absolute;width:100%;height:100%;left:0;top:0;border:none !important;\" data-html=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 onload=\"this.contentDocument.open();this.contentDocument.write(atob(this.getAttribute('data-html')));this.contentDocument.close();\" allowfullscreen webkitallowfullscreen mozallowfullscreen></iframe></div></div>"
      ],
      "text/plain": [
       "<folium.folium.Map at 0x248fd5fed00>"
      ]
     },
     "execution_count": 25,
     "metadata": {},
     "output_type": "execute_result"
=======
   "execution_count": 28,
   "metadata": {},
   "outputs": [
    {
     "ename": "NameError",
     "evalue": "name 'folium' is not defined",
     "output_type": "error",
     "traceback": [
      "\u001b[1;31m---------------------------------------------------------------------------\u001b[0m",
      "\u001b[1;31mNameError\u001b[0m                                 Traceback (most recent call last)",
      "\u001b[1;32m<ipython-input-28-96da60eb1b09>\u001b[0m in \u001b[0;36m<module>\u001b[1;34m\u001b[0m\n\u001b[0;32m      1\u001b[0m \u001b[1;31m# map\u001b[0m\u001b[1;33m\u001b[0m\u001b[1;33m\u001b[0m\u001b[1;33m\u001b[0m\u001b[0m\n\u001b[1;32m----> 2\u001b[1;33m \u001b[0mmap_circle\u001b[0m \u001b[1;33m=\u001b[0m \u001b[0mfolium\u001b[0m\u001b[1;33m.\u001b[0m\u001b[0mMap\u001b[0m\u001b[1;33m(\u001b[0m\u001b[0mlocation\u001b[0m\u001b[1;33m=\u001b[0m\u001b[1;33m[\u001b[0m\u001b[1;36m38\u001b[0m\u001b[1;33m,\u001b[0m \u001b[1;33m-\u001b[0m\u001b[1;36m98\u001b[0m\u001b[1;33m]\u001b[0m\u001b[1;33m,\u001b[0m \u001b[0mzoom_start\u001b[0m\u001b[1;33m=\u001b[0m\u001b[1;36m3\u001b[0m\u001b[1;33m)\u001b[0m\u001b[1;33m\u001b[0m\u001b[1;33m\u001b[0m\u001b[0m\n\u001b[0m\u001b[0;32m      3\u001b[0m \u001b[1;33m\u001b[0m\u001b[0m\n\u001b[0;32m      4\u001b[0m \u001b[1;31m# radius of the circle in meters\u001b[0m\u001b[1;33m\u001b[0m\u001b[1;33m\u001b[0m\u001b[1;33m\u001b[0m\u001b[0m\n\u001b[0;32m      5\u001b[0m \u001b[0mfolium\u001b[0m\u001b[1;33m.\u001b[0m\u001b[0mCircle\u001b[0m\u001b[1;33m(\u001b[0m\u001b[0mradius\u001b[0m\u001b[1;33m=\u001b[0m\u001b[1;36m10000\u001b[0m\u001b[1;33m,\u001b[0m \u001b[0mlocation\u001b[0m\u001b[1;33m=\u001b[0m\u001b[1;33m[\u001b[0m\u001b[1;36m38\u001b[0m\u001b[1;33m,\u001b[0m \u001b[1;33m-\u001b[0m\u001b[1;36m98\u001b[0m\u001b[1;33m]\u001b[0m\u001b[1;33m,\u001b[0m \u001b[0mcolor\u001b[0m\u001b[1;33m=\u001b[0m\u001b[1;34m'green'\u001b[0m\u001b[1;33m)\u001b[0m\u001b[1;33m.\u001b[0m\u001b[0madd_to\u001b[0m\u001b[1;33m(\u001b[0m\u001b[0mmap_circle\u001b[0m\u001b[1;33m)\u001b[0m\u001b[1;33m\u001b[0m\u001b[1;33m\u001b[0m\u001b[0m\n",
      "\u001b[1;31mNameError\u001b[0m: name 'folium' is not defined"
     ]
>>>>>>> 346f936504c41cd2de49f9f7a0b507ea5e8cd490
    }
   ],
   "source": [
    "# map\n",
    "map_circle = folium.Map(location=[38, -98], zoom_start=3)\n",
    "\n",
    "# radius of the circle in meters\n",
    "folium.Circle(radius=10000, location=[38, -98], color='green').add_to(map_circle)\n",
    "\n",
    "# circle of a fixed size with radius specified in pixels\n",
    "folium.CircleMarker(location=[39, -105], radius=25, color='blue', fill_color='yellow').add_to(map_circle)\n",
    "\n",
    "# display map\n",
    "map_circle"
   ]
  },
  {
   "cell_type": "markdown",
   "metadata": {},
   "source": [
    "# Plot Route"
   ]
  },
  {
   "cell_type": "code",
<<<<<<< HEAD
   "execution_count": 11,
   "metadata": {},
   "outputs": [
    {
     "data": {
      "text/html": [
       "<div style=\"width:100%;\"><div style=\"position:relative;width:100%;height:0;padding-bottom:60%;\"><span style=\"color:#565656\">Make this Notebook Trusted to load map: File -> Trust Notebook</span><iframe src=\"about:blank\" style=\"position:absolute;width:100%;height:100%;left:0;top:0;border:none !important;\" data-html=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 onload=\"this.contentDocument.open();this.contentDocument.write(atob(this.getAttribute('data-html')));this.contentDocument.close();\" allowfullscreen webkitallowfullscreen mozallowfullscreen></iframe></div></div>"
      ],
      "text/plain": [
       "<folium.folium.Map at 0x248fca07d30>"
      ]
     },
     "execution_count": 11,
     "metadata": {},
     "output_type": "execute_result"
=======
   "execution_count": 29,
   "metadata": {},
   "outputs": [
    {
     "ename": "NameError",
     "evalue": "name 'folium' is not defined",
     "output_type": "error",
     "traceback": [
      "\u001b[1;31m---------------------------------------------------------------------------\u001b[0m",
      "\u001b[1;31mNameError\u001b[0m                                 Traceback (most recent call last)",
      "\u001b[1;32m<ipython-input-29-f24f0ef20231>\u001b[0m in \u001b[0;36m<module>\u001b[1;34m\u001b[0m\n\u001b[0;32m      2\u001b[0m \u001b[1;33m\u001b[0m\u001b[0m\n\u001b[0;32m      3\u001b[0m \u001b[1;31m# map\u001b[0m\u001b[1;33m\u001b[0m\u001b[1;33m\u001b[0m\u001b[1;33m\u001b[0m\u001b[0m\n\u001b[1;32m----> 4\u001b[1;33m \u001b[0mmap_plot_route\u001b[0m \u001b[1;33m=\u001b[0m \u001b[0mfolium\u001b[0m\u001b[1;33m.\u001b[0m\u001b[0mMap\u001b[0m\u001b[1;33m(\u001b[0m\u001b[0mlocation\u001b[0m\u001b[1;33m=\u001b[0m\u001b[1;33m[\u001b[0m\u001b[1;36m38\u001b[0m\u001b[1;33m,\u001b[0m \u001b[1;33m-\u001b[0m\u001b[1;36m98\u001b[0m\u001b[1;33m]\u001b[0m\u001b[1;33m,\u001b[0m \u001b[0mzoom_start\u001b[0m\u001b[1;33m=\u001b[0m\u001b[1;36m4\u001b[0m\u001b[1;33m)\u001b[0m\u001b[1;33m\u001b[0m\u001b[1;33m\u001b[0m\u001b[0m\n\u001b[0m\u001b[0;32m      5\u001b[0m \u001b[1;33m\u001b[0m\u001b[0m\n\u001b[0;32m      6\u001b[0m \u001b[1;31m# route_locs = ['Los Angeles', 'Las Vegas', 'Denver', 'Chicago', 'Manhattan']\u001b[0m\u001b[1;33m\u001b[0m\u001b[1;33m\u001b[0m\u001b[1;33m\u001b[0m\u001b[0m\n",
      "\u001b[1;31mNameError\u001b[0m: name 'folium' is not defined"
     ]
>>>>>>> 346f936504c41cd2de49f9f7a0b507ea5e8cd490
    }
   ],
   "source": [
    "# route\n",
    "\n",
    "# map\n",
    "map_plot_route = folium.Map(location=[38, -98], zoom_start=4)\n",
    "\n",
    "# route_locs = ['Los Angeles', 'Las Vegas', 'Denver', 'Chicago', 'Manhattan']\n",
    "# can use list of lists or list of tuples\n",
    "route_lats_longs = [[34.041008,-118.246653],\n",
    "                    [36.169726,-115.143996], \n",
    "                    [39.739448,-104.992450], \n",
    "                    [41.878765,-87.643267], \n",
    "                    [40.782949,-73.969559]]\n",
    "\n",
    "# add route to map\n",
    "folium.PolyLine(route_lats_longs).add_to(map_plot_route)\n",
    "\n",
    "# display map\n",
    "map_plot_route"
   ]
  },
  {
   "cell_type": "code",
<<<<<<< HEAD
   "execution_count": null,
   "metadata": {},
   "outputs": [],
=======
   "execution_count": 30,
   "metadata": {},
   "outputs": [
    {
     "ename": "NameError",
     "evalue": "name 'folium' is not defined",
     "output_type": "error",
     "traceback": [
      "\u001b[1;31m---------------------------------------------------------------------------\u001b[0m",
      "\u001b[1;31mNameError\u001b[0m                                 Traceback (most recent call last)",
      "\u001b[1;32m<ipython-input-30-99eeab6fbec1>\u001b[0m in \u001b[0;36m<module>\u001b[1;34m\u001b[0m\n\u001b[0;32m      3\u001b[0m \u001b[1;33m\u001b[0m\u001b[0m\n\u001b[0;32m      4\u001b[0m \u001b[1;31m# map\u001b[0m\u001b[1;33m\u001b[0m\u001b[1;33m\u001b[0m\u001b[1;33m\u001b[0m\u001b[0m\n\u001b[1;32m----> 5\u001b[1;33m \u001b[0mmap_ant_route\u001b[0m \u001b[1;33m=\u001b[0m \u001b[0mfolium\u001b[0m\u001b[1;33m.\u001b[0m\u001b[0mMap\u001b[0m\u001b[1;33m(\u001b[0m\u001b[0mlocation\u001b[0m\u001b[1;33m=\u001b[0m\u001b[1;33m[\u001b[0m\u001b[1;36m38\u001b[0m\u001b[1;33m,\u001b[0m \u001b[1;33m-\u001b[0m\u001b[1;36m98\u001b[0m\u001b[1;33m]\u001b[0m\u001b[1;33m,\u001b[0m \u001b[0mzoom_start\u001b[0m\u001b[1;33m=\u001b[0m\u001b[1;36m4\u001b[0m\u001b[1;33m)\u001b[0m\u001b[1;33m\u001b[0m\u001b[1;33m\u001b[0m\u001b[0m\n\u001b[0m\u001b[0;32m      6\u001b[0m \u001b[1;33m\u001b[0m\u001b[0m\n\u001b[0;32m      7\u001b[0m \u001b[1;31m# add ant path route to map\u001b[0m\u001b[1;33m\u001b[0m\u001b[1;33m\u001b[0m\u001b[1;33m\u001b[0m\u001b[0m\n",
      "\u001b[1;31mNameError\u001b[0m: name 'folium' is not defined"
     ]
    }
   ],
>>>>>>> 346f936504c41cd2de49f9f7a0b507ea5e8cd490
   "source": [
    "# ant path route\n",
    "# uses import - from folium import plugins\n",
    "\n",
    "# map\n",
    "map_ant_route = folium.Map(location=[38, -98], zoom_start=4)\n",
    "\n",
    "# add ant path route to map\n",
    "plugins.AntPath(route_lats_longs).add_to(map_ant_route)\n",
    "\n",
    "# display map\n",
    "map_ant_route"
   ]
  },
  {
   "cell_type": "markdown",
   "metadata": {},
   "source": [
    "# Overlay GeoJSON Layers"
   ]
  },
  {
   "cell_type": "code",
<<<<<<< HEAD
   "execution_count": 10,
   "metadata": {},
   "outputs": [
    {
     "data": {
      "text/html": [
       "<div style=\"width:100%;\"><div style=\"position:relative;width:100%;height:0;padding-bottom:60%;\"><span style=\"color:#565656\">Make this Notebook Trusted to load map: File -> Trust Notebook</span><iframe src=\"about:blank\" style=\"position:absolute;width:100%;height:100%;left:0;top:0;border:none !important;\" data-html=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 onload=\"this.contentDocument.open();this.contentDocument.write(atob(this.getAttribute('data-html')));this.contentDocument.close();\" allowfullscreen webkitallowfullscreen mozallowfullscreen></iframe></div></div>"
      ],
      "text/plain": [
       "<folium.folium.Map at 0x248fca2bac0>"
      ]
     },
     "execution_count": 10,
     "metadata": {},
     "output_type": "execute_result"
=======
   "execution_count": 31,
   "metadata": {},
   "outputs": [
    {
     "ename": "NameError",
     "evalue": "name 'folium' is not defined",
     "output_type": "error",
     "traceback": [
      "\u001b[1;31m---------------------------------------------------------------------------\u001b[0m",
      "\u001b[1;31mNameError\u001b[0m                                 Traceback (most recent call last)",
      "\u001b[1;32m<ipython-input-31-f79dcff29bbd>\u001b[0m in \u001b[0;36m<module>\u001b[1;34m\u001b[0m\n\u001b[0;32m      5\u001b[0m \u001b[1;33m\u001b[0m\u001b[0m\n\u001b[0;32m      6\u001b[0m \u001b[1;31m# map\u001b[0m\u001b[1;33m\u001b[0m\u001b[1;33m\u001b[0m\u001b[1;33m\u001b[0m\u001b[0m\n\u001b[1;32m----> 7\u001b[1;33m \u001b[0mmap_geojson\u001b[0m \u001b[1;33m=\u001b[0m \u001b[0mfolium\u001b[0m\u001b[1;33m.\u001b[0m\u001b[0mMap\u001b[0m\u001b[1;33m(\u001b[0m\u001b[0mlocation\u001b[0m\u001b[1;33m=\u001b[0m\u001b[1;33m[\u001b[0m\u001b[1;36m39.77\u001b[0m\u001b[1;33m,\u001b[0m \u001b[1;33m-\u001b[0m\u001b[1;36m86.15\u001b[0m\u001b[1;33m]\u001b[0m\u001b[1;33m,\u001b[0m \u001b[0mzoom_start\u001b[0m\u001b[1;33m=\u001b[0m\u001b[1;36m7\u001b[0m\u001b[1;33m)\u001b[0m\u001b[1;33m\u001b[0m\u001b[1;33m\u001b[0m\u001b[0m\n\u001b[0m\u001b[0;32m      8\u001b[0m \u001b[1;33m\u001b[0m\u001b[0m\n\u001b[0;32m      9\u001b[0m \u001b[1;31m# add geojson file to map\u001b[0m\u001b[1;33m\u001b[0m\u001b[1;33m\u001b[0m\u001b[1;33m\u001b[0m\u001b[0m\n",
      "\u001b[1;31mNameError\u001b[0m: name 'folium' is not defined"
     ]
>>>>>>> 346f936504c41cd2de49f9f7a0b507ea5e8cd490
    }
   ],
   "source": [
    "# use a link or file\n",
    "# use geojson.io to create custom geojson files\n",
    "# can also use folium Draw control to create geojson files (example below)\n",
    "# convert shapefiles to geojson using QGIS\n",
    "\n",
    "# map\n",
    "map_geojson = folium.Map(location=[39.77, -86.15], zoom_start=7)\n",
    "\n",
    "# add geojson file to map\n",
    "folium.GeoJson('indiana_outline_map.geojson', name='geojson indiana').add_to(map_geojson)\n",
    "\n",
    "# add layer control to map (allows layer to be turned on or off)\n",
    "folium.LayerControl().add_to(map_geojson)\n",
    "\n",
    "# display map\n",
    "map_geojson"
   ]
  },
  {
   "cell_type": "markdown",
   "metadata": {},
   "source": [
    "# Subgroups with GeoJSON"
   ]
  },
  {
   "cell_type": "code",
<<<<<<< HEAD
   "execution_count": 13,
   "metadata": {},
   "outputs": [
    {
     "data": {
      "text/html": [
       "<div style=\"width:100%;\"><div style=\"position:relative;width:100%;height:0;padding-bottom:60%;\"><span style=\"color:#565656\">Make this Notebook Trusted to load map: File -> Trust Notebook</span><iframe src=\"about:blank\" style=\"position:absolute;width:100%;height:100%;left:0;top:0;border:none !important;\" data-html=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 onload=\"this.contentDocument.open();this.contentDocument.write(atob(this.getAttribute('data-html')));this.contentDocument.close();\" allowfullscreen webkitallowfullscreen mozallowfullscreen></iframe></div></div>"
      ],
      "text/plain": [
       "<folium.folium.Map at 0x248fca3d5e0>"
      ]
     },
     "execution_count": 13,
     "metadata": {},
     "output_type": "execute_result"
=======
   "execution_count": 32,
   "metadata": {},
   "outputs": [
    {
     "ename": "NameError",
     "evalue": "name 'folium' is not defined",
     "output_type": "error",
     "traceback": [
      "\u001b[1;31m---------------------------------------------------------------------------\u001b[0m",
      "\u001b[1;31mNameError\u001b[0m                                 Traceback (most recent call last)",
      "\u001b[1;32m<ipython-input-32-1b091506640a>\u001b[0m in \u001b[0;36m<module>\u001b[1;34m\u001b[0m\n\u001b[0;32m      1\u001b[0m \u001b[1;31m# map\u001b[0m\u001b[1;33m\u001b[0m\u001b[1;33m\u001b[0m\u001b[1;33m\u001b[0m\u001b[0m\n\u001b[1;32m----> 2\u001b[1;33m \u001b[0mmap_with_subgroups\u001b[0m \u001b[1;33m=\u001b[0m \u001b[0mfolium\u001b[0m\u001b[1;33m.\u001b[0m\u001b[0mMap\u001b[0m\u001b[1;33m(\u001b[0m\u001b[0mlocation\u001b[0m\u001b[1;33m=\u001b[0m\u001b[1;33m[\u001b[0m\u001b[1;36m39.77\u001b[0m\u001b[1;33m,\u001b[0m \u001b[1;33m-\u001b[0m\u001b[1;36m86.15\u001b[0m\u001b[1;33m]\u001b[0m\u001b[1;33m,\u001b[0m \u001b[0mzoom_start\u001b[0m\u001b[1;33m=\u001b[0m\u001b[1;36m7\u001b[0m\u001b[1;33m)\u001b[0m\u001b[1;33m\u001b[0m\u001b[1;33m\u001b[0m\u001b[0m\n\u001b[0m\u001b[0;32m      3\u001b[0m \u001b[1;33m\u001b[0m\u001b[0m\n\u001b[0;32m      4\u001b[0m \u001b[1;31m# all subgroups\u001b[0m\u001b[1;33m\u001b[0m\u001b[1;33m\u001b[0m\u001b[1;33m\u001b[0m\u001b[0m\n\u001b[0;32m      5\u001b[0m \u001b[0mall_subgroups\u001b[0m \u001b[1;33m=\u001b[0m \u001b[0mfolium\u001b[0m\u001b[1;33m.\u001b[0m\u001b[0mFeatureGroup\u001b[0m\u001b[1;33m(\u001b[0m\u001b[0mname\u001b[0m\u001b[1;33m=\u001b[0m\u001b[1;34m'all sales regions'\u001b[0m\u001b[1;33m)\u001b[0m\u001b[1;33m\u001b[0m\u001b[1;33m\u001b[0m\u001b[0m\n",
      "\u001b[1;31mNameError\u001b[0m: name 'folium' is not defined"
     ]
>>>>>>> 346f936504c41cd2de49f9f7a0b507ea5e8cd490
    }
   ],
   "source": [
    "# map\n",
    "map_with_subgroups = folium.Map(location=[39.77, -86.15], zoom_start=7)\n",
    "\n",
    "# all subgroups\n",
    "all_subgroups = folium.FeatureGroup(name='all sales regions')\n",
    "map_with_subgroups.add_child(all_subgroups)\n",
    "\n",
    "# subgroup 1\n",
    "sales_region1 = plugins.FeatureGroupSubGroup(all_subgroups, 'sales region 1')\n",
    "map_with_subgroups.add_child(sales_region1)\n",
    "\n",
    "# subgroup 2\n",
    "sales_region2 = plugins.FeatureGroupSubGroup(all_subgroups, 'sales region 2')\n",
    "map_with_subgroups.add_child(sales_region2)\n",
    "\n",
    "# subgroup 3\n",
    "sales_region3 = plugins.FeatureGroupSubGroup(all_subgroups, 'sales region 3')\n",
    "map_with_subgroups.add_child(sales_region3)\n",
    "\n",
    "# pull in geojson layers and add to map\n",
    "folium.GeoJson('sales_region1.geojson').add_to(sales_region1)\n",
    "folium.GeoJson('sales_region2.geojson').add_to(sales_region2)\n",
    "folium.GeoJson('sales_region3.geojson').add_to(sales_region3)\n",
    "\n",
    "# add layer control to map (allows layers to be turned on or off)\n",
    "folium.LayerControl(collapsed=False).add_to(map_with_subgroups)\n",
    "\n",
    "# display map\n",
    "map_with_subgroups"
   ]
  },
  {
   "cell_type": "markdown",
   "metadata": {},
   "source": [
    "# Choropleth Map"
   ]
  },
  {
   "cell_type": "code",
<<<<<<< HEAD
   "execution_count": 15,
   "metadata": {},
   "outputs": [],
=======
   "execution_count": 33,
   "metadata": {},
   "outputs": [
    {
     "name": "stdout",
     "output_type": "stream",
     "text": [
      "Object `folium.Choropleth` not found.\n"
     ]
    }
   ],
>>>>>>> 346f936504c41cd2de49f9f7a0b507ea5e8cd490
   "source": [
    "folium.Choropleth?"
   ]
  },
  {
   "cell_type": "code",
<<<<<<< HEAD
   "execution_count": 17,
   "metadata": {},
   "outputs": [
    {
     "ename": "NameError",
     "evalue": "name 'pd' is not defined",
     "output_type": "error",
     "traceback": [
      "\u001b[1;31m---------------------------------------------------------------------------\u001b[0m",
      "\u001b[1;31mNameError\u001b[0m                                 Traceback (most recent call last)",
      "\u001b[1;32m<ipython-input-17-1401516ee861>\u001b[0m in \u001b[0;36m<module>\u001b[1;34m\u001b[0m\n\u001b[0;32m     14\u001b[0m \u001b[1;33m\u001b[0m\u001b[0m\n\u001b[0;32m     15\u001b[0m \u001b[1;31m# load data associated with geo_json\u001b[0m\u001b[1;33m\u001b[0m\u001b[1;33m\u001b[0m\u001b[1;33m\u001b[0m\u001b[0m\n\u001b[1;32m---> 16\u001b[1;33m \u001b[0mpop_df\u001b[0m \u001b[1;33m=\u001b[0m \u001b[0mpd\u001b[0m\u001b[1;33m.\u001b[0m\u001b[0mread_csv\u001b[0m\u001b[1;33m(\u001b[0m\u001b[1;34m'indiana_population_by_county.csv'\u001b[0m\u001b[1;33m)\u001b[0m\u001b[1;33m\u001b[0m\u001b[1;33m\u001b[0m\u001b[0m\n\u001b[0m\u001b[0;32m     17\u001b[0m \u001b[1;33m\u001b[0m\u001b[0m\n\u001b[0;32m     18\u001b[0m \u001b[1;31m# map\u001b[0m\u001b[1;33m\u001b[0m\u001b[1;33m\u001b[0m\u001b[1;33m\u001b[0m\u001b[0m\n",
      "\u001b[1;31mNameError\u001b[0m: name 'pd' is not defined"
=======
   "execution_count": 34,
   "metadata": {},
   "outputs": [
    {
     "ename": "FileNotFoundError",
     "evalue": "[Errno 2] No such file or directory: 'geojson_indiana_counties.geojson'",
     "output_type": "error",
     "traceback": [
      "\u001b[1;31m---------------------------------------------------------------------------\u001b[0m",
      "\u001b[1;31mFileNotFoundError\u001b[0m                         Traceback (most recent call last)",
      "\u001b[1;32m<ipython-input-34-1401516ee861>\u001b[0m in \u001b[0;36m<module>\u001b[1;34m\u001b[0m\n\u001b[0;32m      5\u001b[0m \u001b[1;31m# load geo_json\u001b[0m\u001b[1;33m\u001b[0m\u001b[1;33m\u001b[0m\u001b[1;33m\u001b[0m\u001b[0m\n\u001b[0;32m      6\u001b[0m \u001b[1;31m# shapefiles can be converted to geojson with QGIS\u001b[0m\u001b[1;33m\u001b[0m\u001b[1;33m\u001b[0m\u001b[1;33m\u001b[0m\u001b[0m\n\u001b[1;32m----> 7\u001b[1;33m \u001b[1;32mwith\u001b[0m \u001b[0mopen\u001b[0m\u001b[1;33m(\u001b[0m\u001b[1;34m'geojson_indiana_counties.geojson'\u001b[0m\u001b[1;33m)\u001b[0m \u001b[1;32mas\u001b[0m \u001b[0mf\u001b[0m\u001b[1;33m:\u001b[0m\u001b[1;33m\u001b[0m\u001b[1;33m\u001b[0m\u001b[0m\n\u001b[0m\u001b[0;32m      8\u001b[0m     \u001b[0mgeojson_counties\u001b[0m \u001b[1;33m=\u001b[0m \u001b[0mjson\u001b[0m\u001b[1;33m.\u001b[0m\u001b[0mload\u001b[0m\u001b[1;33m(\u001b[0m\u001b[0mf\u001b[0m\u001b[1;33m)\u001b[0m\u001b[1;33m\u001b[0m\u001b[1;33m\u001b[0m\u001b[0m\n\u001b[0;32m      9\u001b[0m \u001b[1;33m\u001b[0m\u001b[0m\n",
      "\u001b[1;31mFileNotFoundError\u001b[0m: [Errno 2] No such file or directory: 'geojson_indiana_counties.geojson'"
>>>>>>> 346f936504c41cd2de49f9f7a0b507ea5e8cd490
     ]
    }
   ],
   "source": [
    "# more examples for choropleth maps in the documentation\n",
    "\n",
    "import json\n",
    "\n",
    "# load geo_json\n",
    "# shapefiles can be converted to geojson with QGIS\n",
    "with open('geojson_indiana_counties.geojson') as f:\n",
    "    geojson_counties = json.load(f)\n",
    "    \n",
    "# add feature 'id' county name to geojson\n",
    "# access features\n",
    "for i in geojson_counties['features']:\n",
    "    i['id'] = i['properties']['NAME_L']\n",
    "    \n",
    "# load data associated with geo_json\n",
    "pop_df = pd.read_csv('indiana_population_by_county.csv')\n",
    "    \n",
    "# map    \n",
    "map_choropleth = folium.Map(location=[39.77, -86.15], zoom_start=7)\n",
    "\n",
    "# choropleth\n",
    "folium.Choropleth(\n",
    "    geo_data=geojson_counties,\n",
    "    name='choropleth',\n",
    "    data=pop_df,\n",
    "    columns=['County', 'Population'],\n",
    "    # see folium.Choropleth? for details on key_on\n",
    "    key_on='feature.id',\n",
    "    fill_color='YlGn',\n",
    "    fill_opacity=0.5,\n",
    "    line_opacity=0.5,\n",
    "    legend_name='Population',\n",
    "    highlight=True\n",
    ").add_to(map_choropleth)\n",
    "\n",
    "# layer control to turn choropleth on or off\n",
    "folium.LayerControl().add_to(map_choropleth)\n",
    "\n",
    "# display map\n",
    "map_choropleth"
   ]
  },
  {
   "cell_type": "code",
   "execution_count": null,
   "metadata": {},
   "outputs": [],
   "source": [
    "geojson_counties"
   ]
  },
  {
   "cell_type": "code",
   "execution_count": null,
   "metadata": {},
   "outputs": [],
   "source": [
    "pop_df.head()"
   ]
  },
  {
   "cell_type": "markdown",
   "metadata": {},
   "source": [
    "# Heat Map"
   ]
  },
  {
   "cell_type": "code",
<<<<<<< HEAD
   "execution_count": 58,
   "metadata": {},
   "outputs": [
    {
     "data": {
      "text/html": [
       "<div style=\"width:100%;\"><div style=\"position:relative;width:100%;height:0;padding-bottom:60%;\"><span style=\"color:#565656\">Make this Notebook Trusted to load map: File -> Trust Notebook</span><iframe src=\"about:blank\" style=\"position:absolute;width:100%;height:100%;left:0;top:0;border:none !important;\" data-html=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 onload=\"this.contentDocument.open();this.contentDocument.write(atob(this.getAttribute('data-html')));this.contentDocument.close();\" allowfullscreen webkitallowfullscreen mozallowfullscreen></iframe></div></div>"
      ],
      "text/plain": [
       "<folium.folium.Map at 0x248fd90f160>"
      ]
     },
     "execution_count": 58,
     "metadata": {},
     "output_type": "execute_result"
=======
   "execution_count": 46,
   "metadata": {},
   "outputs": [
    {
     "name": "stderr",
     "output_type": "stream",
     "text": [
      "Status code Unknown from https://nominatim.openstreetmap.org/search: ERROR - HTTPSConnectionPool(host='nominatim.openstreetmap.org', port=443): Max retries exceeded with url: /search?q=Localidad+Teusaquillo%2C+Bogot%C3%A1%2C+Bogot%C3%A1+Distrito+Capital&format=jsonv2&addressdetails=1&limit=1 (Caused by ConnectTimeoutError(<urllib3.connection.HTTPSConnection object at 0x0EAE6C88>, 'Connection to nominatim.openstreetmap.org timed out. (connect timeout=5.0)'))\n"
     ]
    },
    {
     "ename": "ValueError",
     "evalue": "Location should consist of two numerical values, but None of type <class 'NoneType'> is not convertible to float.",
     "output_type": "error",
     "traceback": [
      "\u001b[1;31m---------------------------------------------------------------------------\u001b[0m",
      "\u001b[1;31mTypeError\u001b[0m                                 Traceback (most recent call last)",
      "\u001b[1;32mc:\\users\\marif\\pycharmprojects\\datoscov\\venv\\lib\\site-packages\\folium\\utilities.py\u001b[0m in \u001b[0;36mvalidate_location\u001b[1;34m(location)\u001b[0m\n\u001b[0;32m     58\u001b[0m         \u001b[1;32mtry\u001b[0m\u001b[1;33m:\u001b[0m\u001b[1;33m\u001b[0m\u001b[1;33m\u001b[0m\u001b[0m\n\u001b[1;32m---> 59\u001b[1;33m             \u001b[0mfloat\u001b[0m\u001b[1;33m(\u001b[0m\u001b[0mcoord\u001b[0m\u001b[1;33m)\u001b[0m\u001b[1;33m\u001b[0m\u001b[1;33m\u001b[0m\u001b[0m\n\u001b[0m\u001b[0;32m     60\u001b[0m         \u001b[1;32mexcept\u001b[0m \u001b[1;33m(\u001b[0m\u001b[0mTypeError\u001b[0m\u001b[1;33m,\u001b[0m \u001b[0mValueError\u001b[0m\u001b[1;33m)\u001b[0m\u001b[1;33m:\u001b[0m\u001b[1;33m\u001b[0m\u001b[1;33m\u001b[0m\u001b[0m\n",
      "\u001b[1;31mTypeError\u001b[0m: float() argument must be a string or a number, not 'NoneType'",
      "\nDuring handling of the above exception, another exception occurred:\n",
      "\u001b[1;31mValueError\u001b[0m                                Traceback (most recent call last)",
      "\u001b[1;32m<ipython-input-46-92708f20fbe2>\u001b[0m in \u001b[0;36m<module>\u001b[1;34m\u001b[0m\n\u001b[0;32m     48\u001b[0m \u001b[0mmap_heatmap\u001b[0m \u001b[1;33m=\u001b[0m \u001b[0mfolium\u001b[0m\u001b[1;33m.\u001b[0m\u001b[0mMap\u001b[0m\u001b[1;33m(\u001b[0m\u001b[1;33m[\u001b[0m\u001b[1;36m4.5988888\u001b[0m\u001b[1;33m,\u001b[0m \u001b[1;33m-\u001b[0m\u001b[1;36m74.08083\u001b[0m\u001b[1;33m]\u001b[0m\u001b[1;33m,\u001b[0m \u001b[0mtiles\u001b[0m\u001b[1;33m=\u001b[0m\u001b[1;34m'CartoDB Positron'\u001b[0m\u001b[1;33m,\u001b[0m \u001b[0mzoom_start\u001b[0m\u001b[1;33m=\u001b[0m\u001b[1;36m12\u001b[0m\u001b[1;33m)\u001b[0m\u001b[1;33m\u001b[0m\u001b[1;33m\u001b[0m\u001b[0m\n\u001b[0;32m     49\u001b[0m \u001b[1;33m\u001b[0m\u001b[0m\n\u001b[1;32m---> 50\u001b[1;33m \u001b[0mplugins\u001b[0m\u001b[1;33m.\u001b[0m\u001b[0mHeatMap\u001b[0m\u001b[1;33m(\u001b[0m\u001b[0mlarge_cities\u001b[0m\u001b[1;33m)\u001b[0m\u001b[1;33m.\u001b[0m\u001b[0madd_to\u001b[0m\u001b[1;33m(\u001b[0m\u001b[0mmap_heatmap\u001b[0m\u001b[1;33m)\u001b[0m\u001b[1;33m\u001b[0m\u001b[1;33m\u001b[0m\u001b[0m\n\u001b[0m\u001b[0;32m     51\u001b[0m \u001b[1;33m\u001b[0m\u001b[0m\n\u001b[0;32m     52\u001b[0m \u001b[0mmap_heatmap\u001b[0m\u001b[1;33m\u001b[0m\u001b[1;33m\u001b[0m\u001b[0m\n",
      "\u001b[1;32mc:\\users\\marif\\pycharmprojects\\datoscov\\venv\\lib\\site-packages\\folium\\plugins\\heat_map.py\u001b[0m in \u001b[0;36m__init__\u001b[1;34m(self, data, name, min_opacity, max_zoom, max_val, radius, blur, gradient, overlay, control, show, **kwargs)\u001b[0m\n\u001b[0;32m     64\u001b[0m         \u001b[0mself\u001b[0m\u001b[1;33m.\u001b[0m\u001b[0m_name\u001b[0m \u001b[1;33m=\u001b[0m \u001b[1;34m'HeatMap'\u001b[0m\u001b[1;33m\u001b[0m\u001b[1;33m\u001b[0m\u001b[0m\n\u001b[0;32m     65\u001b[0m         \u001b[0mdata\u001b[0m \u001b[1;33m=\u001b[0m \u001b[0mif_pandas_df_convert_to_numpy\u001b[0m\u001b[1;33m(\u001b[0m\u001b[0mdata\u001b[0m\u001b[1;33m)\u001b[0m\u001b[1;33m\u001b[0m\u001b[1;33m\u001b[0m\u001b[0m\n\u001b[1;32m---> 66\u001b[1;33m         self.data = [[*validate_location(line[:2]), *line[2:]]  # noqa: E999\n\u001b[0m\u001b[0;32m     67\u001b[0m                      for line in data]\n\u001b[0;32m     68\u001b[0m         \u001b[1;32mif\u001b[0m \u001b[0mnp\u001b[0m\u001b[1;33m.\u001b[0m\u001b[0many\u001b[0m\u001b[1;33m(\u001b[0m\u001b[0mnp\u001b[0m\u001b[1;33m.\u001b[0m\u001b[0misnan\u001b[0m\u001b[1;33m(\u001b[0m\u001b[0mself\u001b[0m\u001b[1;33m.\u001b[0m\u001b[0mdata\u001b[0m\u001b[1;33m)\u001b[0m\u001b[1;33m)\u001b[0m\u001b[1;33m:\u001b[0m\u001b[1;33m\u001b[0m\u001b[1;33m\u001b[0m\u001b[0m\n",
      "\u001b[1;32mc:\\users\\marif\\pycharmprojects\\datoscov\\venv\\lib\\site-packages\\folium\\plugins\\heat_map.py\u001b[0m in \u001b[0;36m<listcomp>\u001b[1;34m(.0)\u001b[0m\n\u001b[0;32m     64\u001b[0m         \u001b[0mself\u001b[0m\u001b[1;33m.\u001b[0m\u001b[0m_name\u001b[0m \u001b[1;33m=\u001b[0m \u001b[1;34m'HeatMap'\u001b[0m\u001b[1;33m\u001b[0m\u001b[1;33m\u001b[0m\u001b[0m\n\u001b[0;32m     65\u001b[0m         \u001b[0mdata\u001b[0m \u001b[1;33m=\u001b[0m \u001b[0mif_pandas_df_convert_to_numpy\u001b[0m\u001b[1;33m(\u001b[0m\u001b[0mdata\u001b[0m\u001b[1;33m)\u001b[0m\u001b[1;33m\u001b[0m\u001b[1;33m\u001b[0m\u001b[0m\n\u001b[1;32m---> 66\u001b[1;33m         self.data = [[*validate_location(line[:2]), *line[2:]]  # noqa: E999\n\u001b[0m\u001b[0;32m     67\u001b[0m                      for line in data]\n\u001b[0;32m     68\u001b[0m         \u001b[1;32mif\u001b[0m \u001b[0mnp\u001b[0m\u001b[1;33m.\u001b[0m\u001b[0many\u001b[0m\u001b[1;33m(\u001b[0m\u001b[0mnp\u001b[0m\u001b[1;33m.\u001b[0m\u001b[0misnan\u001b[0m\u001b[1;33m(\u001b[0m\u001b[0mself\u001b[0m\u001b[1;33m.\u001b[0m\u001b[0mdata\u001b[0m\u001b[1;33m)\u001b[0m\u001b[1;33m)\u001b[0m\u001b[1;33m:\u001b[0m\u001b[1;33m\u001b[0m\u001b[1;33m\u001b[0m\u001b[0m\n",
      "\u001b[1;32mc:\\users\\marif\\pycharmprojects\\datoscov\\venv\\lib\\site-packages\\folium\\utilities.py\u001b[0m in \u001b[0;36mvalidate_location\u001b[1;34m(location)\u001b[0m\n\u001b[0;32m     59\u001b[0m             \u001b[0mfloat\u001b[0m\u001b[1;33m(\u001b[0m\u001b[0mcoord\u001b[0m\u001b[1;33m)\u001b[0m\u001b[1;33m\u001b[0m\u001b[1;33m\u001b[0m\u001b[0m\n\u001b[0;32m     60\u001b[0m         \u001b[1;32mexcept\u001b[0m \u001b[1;33m(\u001b[0m\u001b[0mTypeError\u001b[0m\u001b[1;33m,\u001b[0m \u001b[0mValueError\u001b[0m\u001b[1;33m)\u001b[0m\u001b[1;33m:\u001b[0m\u001b[1;33m\u001b[0m\u001b[1;33m\u001b[0m\u001b[0m\n\u001b[1;32m---> 61\u001b[1;33m             raise ValueError('Location should consist of two numerical values, '\n\u001b[0m\u001b[0;32m     62\u001b[0m                              \u001b[1;34m'but {!r} of type {} is not convertible to float.'\u001b[0m\u001b[1;33m\u001b[0m\u001b[1;33m\u001b[0m\u001b[0m\n\u001b[0;32m     63\u001b[0m                              .format(coord, type(coord)))\n",
      "\u001b[1;31mValueError\u001b[0m: Location should consist of two numerical values, but None of type <class 'NoneType'> is not convertible to float."
     ]
>>>>>>> 346f936504c41cd2de49f9f7a0b507ea5e8cd490
    }
   ],
   "source": [
    "# use import geocoder\n",
    "\n",
    "# get location data for large cities (latitude and longitude)\n",
    "bosa = geocoder.osm('Localidad Bosa, Bogotá, Bogotá Distrito Capital')\n",
    "barrios_unidos = geocoder.osm('Localidad Barrios Unidos, Bogotá, Bogotá Distrito Capital')\n",
    "usaquen = geocoder.osm('Localidad Usaquén, Bogotá, Bogotá Distrito Capital')\n",
    "chapinero = geocoder.osm('Localidad Chapinero, Bogotá, Bogotá Distrito Capital')\n",
    "santa_fe = geocoder.osm('Localidad Santa Fe, Bogotá, Bogotá Distrito Capital')\n",
    "san_cristobal = geocoder.osm('Localidad San Cristobal, Bogotá, Bogotá Distrito Capital')\n",
<<<<<<< HEAD
    "san_antonio = geocoder.osm('San Antonio, Texas')\n",
    "san_diego = geocoder.osm('San Diego, California')\n",
    "dallas = geocoder.osm('Dallas, Texas')\n",
    "san_jose = geocoder.osm('San Jose, California')\n",
=======
    "fontibon = geocoder.osm('Localidad Fontibon, Bogotá, Bogotá Distrito Capital')\n",
    "engativa = geocoder.osm('Localidad Engativa, Bogotá, Bogotá Distrito Capital')\n",
    "kennedy = geocoder.osm('Localidad Kennedy, Bogotá, Bogotá Distrito Capital')\n",
    "suba = geocoder.osm('Localidad Suba, Bogotá, Bogotá Distrito Capital')\n",
    "teusaquillo = geocoder.osm('Localidad Teusaquillo, Bogotá, Bogotá Distrito Capital')\n",
    "la_candelaria = geocoder.osm('Localidad La candelaria, Bogotá, Bogotá Distrito Capital')\n",
    "martires = geocoder.osm('Localidad Martires, Bogotá, Bogotá Distrito Capital')\n",
    "puente_aranda = geocoder.osm('Localidad Puente aranda, Bogotá, Bogotá Distrito Capital')\n",
    "antonio_nariño = geocoder.osm('Localidad Antonio nariño, Bogotá, Bogotá Distrito Capital')\n",
    "ciudad_bolivar = geocoder.osm('Localidad Suba, Bogotá, Bogotá Distrito Capital')\n",
    "usme = geocoder.osm('Localidad Usme, Bogotá, Bogotá Distrito Capital')\n",
    "sumapaz = geocoder.osm('Localidad Sumapaz, Bogotá, Bogotá Distrito Capital')\n",
>>>>>>> 346f936504c41cd2de49f9f7a0b507ea5e8cd490
    "\n",
    "# create latitude, longitude, intensity for heat map\n",
    "# intensity is population scaled down so heat dots are more readable\n",
    "bosa_latlng = [bosa.lat, bosa.lng, 8398748/1000]\n",
    "barios_unidos_latlng = [barrios_unidos.lat, barrios_unidos.lng, 3990456/1000]\n",
<<<<<<< HEAD
    "chicago_latlng = [chicago.lat, chicago.lng, 2705994/1000]\n",
    "houston_latlng = [houston.lat, houston.lng, 2325502/1000]\n",
    "phoenix_latlng = [phoenix.lat, phoenix.lng, 1660272/1000]\n",
    "philadelphia_latlng = [philadelphia.lat, philadelphia.lng, 1584138/1000]\n",
    "san_antonio_latlng = [san_antonio.lat, san_antonio.lng, 1532233/1000]\n",
    "san_diego_latlng = [san_diego.lat, san_diego.lng, 1425976/1000]\n",
    "dallas_latlng = [dallas.lat, dallas.lng, 1345047/1000]\n",
    "san_jose_latlng = [san_jose.lat, san_jose.lng, 1030119/1000]\n",
    "\n",
    "# create list of cities with latitude, longitude, intensity\n",
    "large_cities = [new_york_city_latlng, los_angeles_latlng, chicago_latlng, houston_latlng, phoenix_latlng, \n",
    "                philadelphia_latlng, san_antonio_latlng, san_diego_latlng, dallas_latlng, san_jose_latlng]\n",
=======
    "usaquen_latlng = [usaquen.lat, usaquen.lng, 8398748/1000]\n",
    "chapinero_latlng = [chapinero.lat, chapinero.lng, 8398748/1000]\n",
    "santa_fe_latlng = [santa_fe.lat, santa_fe.lng, 8398748/1000]\n",
    "san_cristobal_latlng = [san_cristobal.lat, san_cristobal.lng, 8398748/1000]\n",
    "fontibon_latlng = [fontibon.lat, fontibon.lng, 8398748/1000]\n",
    "engativa_latlng = [engativa.lat, engativa.lng, 8398748/1000]\n",
    "kennedy_latlng = [kennedy.lat, kennedy.lng, 8398748/1000]\n",
    "suba_latlng = [suba.lat, suba.lng, 100000000/1000]\n",
    "teusaquillo_latlng = [teusaquillo.lat, teusaquillo.lng, 8398748/1000]\n",
    "la_candelaria_latlng = [la_candelaria.lat, la_candelaria.lng, 8398748/1000]\n",
    "martires_latlng = [martires.lat, martires.lng, 8398748/1000]\n",
    "puente_aranda_latlng = [puente_aranda.lat, puente_aranda.lng, 8398748/1000]\n",
    "antonio_nariño_latlng = [antonio_nariño.lat, antonio_nariño.lng, 8398748/1000]\n",
    "ciudad_bolivar_latlng = [ciudad_bolivar.lat, ciudad_bolivar.lng, 8398748/1000]\n",
    "usme_latlng = [usme.lat, usme.lng, 8398748/1000]\n",
    "sumapaz_latlng = [sumapaz.lat,sumapaz.lng, 8398748/1000]\n",
    "# create list of cities with latitude, longitude, intensity\n",
    "large_cities = [bosa_latlng, barios_unidos_latlng, usaquen_latlng, chapinero_latlng, santa_fe_latlng, san_cristobal_latlng, fontibon_latlng,\n",
    "               engativa_latlng,kennedy_latlng,  suba_latlng, teusaquillo_latlng, la_candelaria_latlng, martires_latlng, \n",
    "               puente_aranda_latlng, antonio_nariño_latlng, ciudad_bolivar_latlng, usme_latlng, sumapaz_latlng]\n",
>>>>>>> 346f936504c41cd2de49f9f7a0b507ea5e8cd490
    "\n",
    "map_heatmap = folium.Map([4.5988888, -74.08083], tiles='CartoDB Positron', zoom_start=12)\n",
    "\n",
    "plugins.HeatMap(large_cities).add_to(map_heatmap)\n",
    "\n",
    "map_heatmap"
   ]
  },
  {
   "cell_type": "code",
<<<<<<< HEAD
   "execution_count": null,
=======
   "execution_count": 43,
>>>>>>> 346f936504c41cd2de49f9f7a0b507ea5e8cd490
   "metadata": {},
   "outputs": [],
   "source": [
    "plugins.HeatMapWithTime?"
   ]
  },
  {
   "cell_type": "code",
   "execution_count": 47,
   "metadata": {},
   "outputs": [
    {
     "data": {
      "text/html": [
       "<div style=\"width:100%;\"><div style=\"position:relative;width:100%;height:0;padding-bottom:60%;\"><span style=\"color:#565656\">Make this Notebook Trusted to load map: File -> Trust Notebook</span><iframe src=\"about:blank\" style=\"position:absolute;width:100%;height:100%;left:0;top:0;border:none !important;\" data-html=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 onload=\"this.contentDocument.open();this.contentDocument.write(atob(this.getAttribute('data-html')));this.contentDocument.close();\" allowfullscreen webkitallowfullscreen mozallowfullscreen></iframe></div></div>"
      ],
      "text/plain": [
       "<folium.folium.Map at 0x248fd7eb040>"
      ]
     },
     "execution_count": 47,
     "metadata": {},
     "output_type": "execute_result"
    }
   ],
   "source": [
    "# heat map over time\n",
    "\n",
    "# data\n",
    "# take note of data format needed for heat map with time (using plugins.HeatMapWithTime?)\n",
    "heatmap_time_data = (np.random.random((100,20,2)) + np.array([[39, -98]])).tolist()\n",
    "\n",
    "# dates\n",
    "heatmap_time_dates = [d.strftime('%Y-%m-%d') for d in pd.date_range('20160101', periods=len(heatmap_time_data))]\n",
    "\n",
    "# map\n",
    "map_heatmap_time = folium.Map([39, -98], tiles='CartoDB Dark_Matter', zoom_start=6)\n",
    "\n",
    "# heatmap plugin\n",
    "heatmap_time_plugin = plugins.HeatMapWithTime(heatmap_time_data, index=heatmap_time_dates)\n",
    "\n",
    "# add heatmap plugin to map\n",
    "heatmap_time_plugin.add_to(map_heatmap_time)\n",
    "\n",
    "# display map\n",
    "map_heatmap_time"
   ]
  },
  {
   "cell_type": "code",
   "execution_count": null,
   "metadata": {},
   "outputs": [],
   "source": [
    "heatmap_time_data"
   ]
  },
  {
   "cell_type": "markdown",
   "metadata": {},
   "source": [
    "# Latitude and Longitude Tool"
   ]
  },
  {
   "cell_type": "code",
   "execution_count": null,
   "metadata": {},
   "outputs": [],
   "source": [
    "# map\n",
    "map_lat_long = folium.Map(location=[38, -98], zoom_start=4)\n",
    "\n",
    "# add latitude and longitude tool to map\n",
    "map_lat_long.add_child(folium.LatLngPopup())\n",
    "\n",
    "# display map\n",
    "map_lat_long"
   ]
  },
  {
   "cell_type": "markdown",
   "metadata": {},
   "source": [
    "# Measure Control"
   ]
  },
  {
   "cell_type": "code",
   "execution_count": null,
   "metadata": {},
   "outputs": [],
   "source": [
    "# map\n",
    "map_measure = folium.Map([40, -100], zoom_start=4)\n",
    "\n",
    "# measure control\n",
    "measure_control = plugins.MeasureControl(position='topleft', \n",
    "                                         active_color='red', \n",
    "                                         completed_color='red', \n",
    "                                         primary_length_unit='miles')\n",
    "\n",
    "# add measure control to map\n",
    "map_measure.add_child(measure_control)\n",
    "\n",
    "# display map\n",
    "map_measure"
   ]
  },
  {
   "cell_type": "code",
   "execution_count": null,
   "metadata": {},
   "outputs": [],
   "source": [
    "plugins.MeasureControl?"
   ]
  },
  {
   "cell_type": "markdown",
   "metadata": {},
   "source": [
    "# Dual Map"
   ]
  },
  {
   "cell_type": "code",
   "execution_count": null,
   "metadata": {},
   "outputs": [],
   "source": [
    "# dual map\n",
    "map_dual = plugins.DualMap(location=[40, -98], tiles=None, zoom_start=4)\n",
    "\n",
    "# map tiles\n",
    "folium.TileLayer('Stamen Terrain').add_to(map_dual)\n",
    "folium.TileLayer('CartoDB Positron').add_to(map_dual)\n",
    "\n",
    "# add layer control to maps\n",
    "folium.LayerControl().add_to(map_dual)\n",
    "\n",
    "# display map(s)\n",
    "map_dual"
   ]
  },
  {
   "cell_type": "markdown",
   "metadata": {},
   "source": [
    "# Draw"
   ]
  },
  {
   "cell_type": "code",
   "execution_count": null,
   "metadata": {},
   "outputs": [],
   "source": [
    "# map\n",
    "map_draw = folium.Map(location=[40, -99], zoom_start=4)\n",
    "\n",
    "# draw tools\n",
    "# export=True exports the drawn shapes as a geojson file\n",
    "draw = plugins.Draw(export=True)\n",
    "\n",
    "# add draw tools to map\n",
    "draw.add_to(map_draw)\n",
    "\n",
    "# display map\n",
    "map_draw"
   ]
  },
  {
   "cell_type": "code",
   "execution_count": null,
   "metadata": {},
   "outputs": [],
   "source": [
    "plugins.Draw?"
   ]
  },
  {
   "cell_type": "markdown",
   "metadata": {},
   "source": [
    "# Overlay Image"
   ]
  },
  {
   "cell_type": "code",
   "execution_count": null,
   "metadata": {},
   "outputs": [],
   "source": [
    "# map\n",
    "# map of Africa flags from Wikipedia\n",
    "map_img_overlay = folium.Map([2,22], zoom_start=3, tiles='CartoDB Positron')\n",
    "\n",
    "# image to overlay on map\n",
    "img_overlay = folium.raster_layers.ImageOverlay(name='flags of Africa', \n",
    "                                                image='flags_of_africa.png',\n",
    "                                                # bounds - [[lat_min, lon_min], [lat_max, lon_max]]\n",
    "                                                bounds=[[-38, -28], [40, 60]],\n",
    "                                                opacity=0.5,\n",
    "                                                # controls layer order\n",
    "                                                zindex=1)\n",
    "# add image to map\n",
    "img_overlay.add_to(map_img_overlay)\n",
    "\n",
    "# layer control to click layer on or off\n",
    "folium.LayerControl().add_to(map_img_overlay)\n",
    "\n",
    "# display map\n",
    "map_img_overlay"
   ]
  },
  {
   "cell_type": "markdown",
   "metadata": {},
   "source": [
    "# Charts in Popup"
   ]
  },
  {
   "cell_type": "code",
   "execution_count": null,
   "metadata": {},
   "outputs": [],
   "source": [
    "seattle_weather = vds.seattle_weather()\n",
    "seattle_weather.head()"
   ]
  },
  {
   "cell_type": "code",
   "execution_count": null,
   "metadata": {},
   "outputs": [],
   "source": [
    "# embed this chart into a popup/tooltip\n",
    "# altair or other libraries (vega) may need to be installed\n",
    "# if you install altair while notebook is open, close and reopen everything\n",
    "\n",
    "import altair\n",
    "altair.renderers.enable('notebook')\n",
    "\n",
    "sw_means = pd.DataFrame({'seattle_x': ['precipitation', 'temp_max', 'temp_min', 'wind'],\n",
    "                         'seattle_y': [seattle_weather.precipitation.mean(),\n",
    "                                       seattle_weather.temp_max.mean(),\n",
    "                                       seattle_weather.temp_min.mean(),\n",
    "                                       seattle_weather.wind.mean()]})\n",
    "\n",
    "sw_bar = altair.Chart(sw_means, width=300).mark_bar().encode(\n",
    "    x='seattle_x',\n",
    "    y='seattle_y').properties(title='Seattle Weather Averages')\n",
    "\n",
    "sw_bar"
   ]
  },
  {
   "cell_type": "code",
   "execution_count": null,
   "metadata": {},
   "outputs": [],
   "source": [
    "# embed seattle weather data in marker corresponding to location\n",
    "\n",
    "# folium.features.VegaLite creates a Vega-Lite chart element\n",
    "vega = folium.features.VegaLite(sw_bar, width='100%', height='100%')\n",
    "\n",
    "# create map\n",
    "map_sw = folium.Map(location=[47.606322, -122.332575])\n",
    "\n",
    "# create marker on the map, with optional popup text or Vincent visualization\n",
    "sw_marker = folium.features.Marker([47.60, -122.33])\n",
    "\n",
    "# create popup\n",
    "sw_popup = folium.Popup()\n",
    "\n",
    "# add chart to popup\n",
    "vega.add_to(sw_popup)\n",
    "\n",
    "# add popup to marker\n",
    "sw_popup.add_to(sw_marker)\n",
    "\n",
    "# add marker to map\n",
    "sw_marker.add_to(map_sw)\n",
    "\n",
    "map_sw"
   ]
  },
  {
   "cell_type": "markdown",
   "metadata": {},
   "source": [
    "# Maps with Interactive Widgets"
   ]
  },
  {
   "cell_type": "code",
   "execution_count": null,
   "metadata": {},
   "outputs": [],
   "source": [
    "# using ipywidgets\n",
    "# plot location with marker\n",
    "\n",
    "import geocoder\n",
    "import ipywidgets\n",
    "\n",
    "# text widget\n",
    "address_text_box = ipywidgets.Text(value='', placeholder='type here', description='address:')\n",
    "\n",
    "# widget function\n",
    "def plot_locations(address):\n",
    "    # location address\n",
    "    location = geocoder.osm(address)\n",
    "    \n",
    "    # latitude and longitude of location\n",
    "    latlng = [location.lat, location.lng]\n",
    "    \n",
    "    # create map\n",
    "    plot_locations_map = folium.Map(location=[40, -100], zoom_start=4)\n",
    "    \n",
    "    # marker\n",
    "    folium.Marker(latlng, popup=str(address), tooltip='click').add_to(plot_locations_map)\n",
    "    \n",
    "    # display map\n",
    "    display(plot_locations_map)\n",
    "    \n",
    "# interaction between widget and function    \n",
    "ipywidgets.interact_manual(plot_locations, address=address_text_box)\n",
    "\n",
    "'''\n",
    "test addresses\n",
    "4790 W 16th St, Indianapolis, IN 46222 (Indy 500 Track)\n",
    "2920 Zoo Dr, San Diego, CA 92101 (San Diego Zoo)\n",
    "1 Infinite Loop, Cupertino, CA 95014 (Apple)\n",
    "'''"
   ]
  },
  {
   "cell_type": "code",
   "execution_count": 9,
   "metadata": {},
   "outputs": [
    {
     "ename": "ModuleNotFoundError",
     "evalue": "No module named 'geopy'",
     "output_type": "error",
     "traceback": [
      "\u001b[1;31m---------------------------------------------------------------------------\u001b[0m",
      "\u001b[1;31mModuleNotFoundError\u001b[0m                       Traceback (most recent call last)",
      "\u001b[1;32m<ipython-input-9-5189a8ed27f6>\u001b[0m in \u001b[0;36m<module>\u001b[1;34m\u001b[0m\n\u001b[0;32m      5\u001b[0m \u001b[1;31m# if geopy.distance.distance does not work try import geopy.distance\u001b[0m\u001b[1;33m\u001b[0m\u001b[1;33m\u001b[0m\u001b[1;33m\u001b[0m\u001b[0m\n\u001b[0;32m      6\u001b[0m \u001b[1;33m\u001b[0m\u001b[0m\n\u001b[1;32m----> 7\u001b[1;33m \u001b[1;32mimport\u001b[0m \u001b[0mgeopy\u001b[0m\u001b[1;33m.\u001b[0m\u001b[0mdistance\u001b[0m\u001b[1;33m\u001b[0m\u001b[1;33m\u001b[0m\u001b[0m\n\u001b[0m\u001b[0;32m      8\u001b[0m \u001b[1;33m\u001b[0m\u001b[0m\n\u001b[0;32m      9\u001b[0m \u001b[1;31m# text widgets\u001b[0m\u001b[1;33m\u001b[0m\u001b[1;33m\u001b[0m\u001b[1;33m\u001b[0m\u001b[0m\n",
      "\u001b[1;31mModuleNotFoundError\u001b[0m: No module named 'geopy'"
     ]
    }
   ],
   "source": [
    "# using ipywidgets\n",
    "# plot route with distance measure\n",
    "# import geopy & geocoder\n",
    "# can probably use geopy to geocode also\n",
    "# if geopy.distance.distance does not work try import geopy.distance\n",
    "\n",
    "import geopy.distance\n",
    "\n",
    "# text widgets\n",
    "route_start_widget = ipywidgets.Text(value='', placeholder='address', description='start:')\n",
    "route_stop_widget = ipywidgets.Text(value='', placeholder='address', description='stop:')\n",
    "\n",
    "# widget function\n",
    "def get_distance(start_address, stop_address):\n",
    "    \n",
    "    # string addresses to location information\n",
    "    start_location = geocoder.osm(start_address)\n",
    "    stop_location = geocoder.osm(stop_address)\n",
    "    \n",
    "    # pull out latitude and longitude from location information\n",
    "    start_latlng = [start_location.lat, start_location.lng]\n",
    "    stop_latlng = [stop_location.lat, stop_location.lng]\n",
    "    \n",
    "    # calculate distance from start point to stop point using latitudes and longitudes\n",
    "    distance = geopy.distance.distance(start_latlng, stop_latlng).miles\n",
    "    print(f'distance: {distance:.2f} miles')\n",
    "    \n",
    "    # map\n",
    "    distance_path = [(start_latlng), (stop_latlng)]\n",
    "    map_distance = folium.Map(location=[38, -98], zoom_start=4)\n",
    "    plugins.AntPath(distance_path).add_to(map_distance)\n",
    "    display(map_distance)\n",
    "    \n",
    "# interaction between widgets and function    \n",
    "ipywidgets.interact_manual(get_distance, start_address=route_start_widget, stop_address=route_stop_widget)\n",
    "\n",
    "# notice animation moves in the direction from start to stop and distance prints above map"
   ]
  },
  {
   "cell_type": "code",
   "execution_count": null,
   "metadata": {},
   "outputs": [],
   "source": []
  }
 ],
 "metadata": {
  "kernelspec": {
   "display_name": "Python 3",
   "language": "python",
   "name": "python3"
  },
  "language_info": {
   "codemirror_mode": {
    "name": "ipython",
    "version": 3
   },
   "file_extension": ".py",
   "mimetype": "text/x-python",
   "name": "python",
   "nbconvert_exporter": "python",
   "pygments_lexer": "ipython3",
<<<<<<< HEAD
   "version": "3.7.4"
=======
   "version": "3.8.5"
>>>>>>> 346f936504c41cd2de49f9f7a0b507ea5e8cd490
  },
  "varInspector": {
   "cols": {
    "lenName": 16,
    "lenType": 16,
    "lenVar": 40
   },
   "kernels_config": {
    "python": {
     "delete_cmd_postfix": "",
     "delete_cmd_prefix": "del ",
     "library": "var_list.py",
     "varRefreshCmd": "print(var_dic_list())"
    },
    "r": {
     "delete_cmd_postfix": ") ",
     "delete_cmd_prefix": "rm(",
     "library": "var_list.r",
     "varRefreshCmd": "cat(var_dic_list()) "
    }
   },
   "types_to_exclude": [
    "module",
    "function",
    "builtin_function_or_method",
    "instance",
    "_Feature"
   ],
   "window_display": false
  }
 },
 "nbformat": 4,
 "nbformat_minor": 2
}
